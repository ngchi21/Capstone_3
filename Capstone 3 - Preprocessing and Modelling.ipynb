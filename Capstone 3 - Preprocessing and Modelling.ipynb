{
 "cells": [
  {
   "cell_type": "markdown",
   "id": "b2fbb7f4",
   "metadata": {},
   "source": [
    "# Preprocessing"
   ]
  },
  {
   "cell_type": "markdown",
   "id": "4c25b2da",
   "metadata": {},
   "source": [
    "## Importing Data:"
   ]
  },
  {
   "cell_type": "code",
   "execution_count": 86,
   "id": "c3b2021a",
   "metadata": {},
   "outputs": [],
   "source": [
    "# importing packages\n",
    "import matplotlib.pyplot as plt\n",
    "import seaborn as sns\n",
    "import pandas as pd \n",
    "import numpy as np\n",
    "from sklearn.preprocessing import StandardScaler\n",
    "from sklearn.model_selection import train_test_split\n",
    "from sklearn.model_selection import cross_val_score\n",
    "from sklearn.metrics import mean_absolute_percentage_error as mape"
   ]
  },
  {
   "cell_type": "code",
   "execution_count": 87,
   "id": "ebc3c768",
   "metadata": {},
   "outputs": [
    {
     "data": {
      "text/html": [
       "<div>\n",
       "<style scoped>\n",
       "    .dataframe tbody tr th:only-of-type {\n",
       "        vertical-align: middle;\n",
       "    }\n",
       "\n",
       "    .dataframe tbody tr th {\n",
       "        vertical-align: top;\n",
       "    }\n",
       "\n",
       "    .dataframe thead th {\n",
       "        text-align: right;\n",
       "    }\n",
       "</style>\n",
       "<table border=\"1\" class=\"dataframe\">\n",
       "  <thead>\n",
       "    <tr style=\"text-align: right;\">\n",
       "      <th></th>\n",
       "      <th>Unnamed: 0</th>\n",
       "      <th>Demand Date</th>\n",
       "      <th>Monday</th>\n",
       "      <th>Tuesday</th>\n",
       "      <th>Wednesday</th>\n",
       "      <th>Thursday</th>\n",
       "      <th>Friday</th>\n",
       "      <th>Saturday</th>\n",
       "      <th>Sunday</th>\n",
       "      <th>January</th>\n",
       "      <th>...</th>\n",
       "      <th>Total Fish Production</th>\n",
       "      <th>Total Meat Production</th>\n",
       "      <th>Total</th>\n",
       "      <th>Wind</th>\n",
       "      <th>Cloudiness</th>\n",
       "      <th>Precipitation</th>\n",
       "      <th>SUN</th>\n",
       "      <th>Air temperature</th>\n",
       "      <th>Is Holiday</th>\n",
       "      <th>Weekend</th>\n",
       "    </tr>\n",
       "  </thead>\n",
       "  <tbody>\n",
       "    <tr>\n",
       "      <th>0</th>\n",
       "      <td>0</td>\n",
       "      <td>2013-10-04</td>\n",
       "      <td>0</td>\n",
       "      <td>0</td>\n",
       "      <td>0</td>\n",
       "      <td>0</td>\n",
       "      <td>1</td>\n",
       "      <td>0</td>\n",
       "      <td>0</td>\n",
       "      <td>0</td>\n",
       "      <td>...</td>\n",
       "      <td>24</td>\n",
       "      <td>149</td>\n",
       "      <td>173</td>\n",
       "      <td>1.916667</td>\n",
       "      <td>7.666667</td>\n",
       "      <td>0.1</td>\n",
       "      <td>150</td>\n",
       "      <td>15.858333</td>\n",
       "      <td>0</td>\n",
       "      <td>0</td>\n",
       "    </tr>\n",
       "    <tr>\n",
       "      <th>1</th>\n",
       "      <td>1</td>\n",
       "      <td>2013-10-05</td>\n",
       "      <td>0</td>\n",
       "      <td>0</td>\n",
       "      <td>0</td>\n",
       "      <td>0</td>\n",
       "      <td>0</td>\n",
       "      <td>1</td>\n",
       "      <td>0</td>\n",
       "      <td>0</td>\n",
       "      <td>...</td>\n",
       "      <td>21</td>\n",
       "      <td>147</td>\n",
       "      <td>168</td>\n",
       "      <td>2.738462</td>\n",
       "      <td>6.923077</td>\n",
       "      <td>10.7</td>\n",
       "      <td>0</td>\n",
       "      <td>13.192308</td>\n",
       "      <td>0</td>\n",
       "      <td>1</td>\n",
       "    </tr>\n",
       "    <tr>\n",
       "      <th>2</th>\n",
       "      <td>2</td>\n",
       "      <td>2013-10-06</td>\n",
       "      <td>0</td>\n",
       "      <td>0</td>\n",
       "      <td>0</td>\n",
       "      <td>0</td>\n",
       "      <td>0</td>\n",
       "      <td>0</td>\n",
       "      <td>1</td>\n",
       "      <td>0</td>\n",
       "      <td>...</td>\n",
       "      <td>22</td>\n",
       "      <td>69</td>\n",
       "      <td>91</td>\n",
       "      <td>1.364286</td>\n",
       "      <td>8.000000</td>\n",
       "      <td>0.4</td>\n",
       "      <td>0</td>\n",
       "      <td>10.571429</td>\n",
       "      <td>0</td>\n",
       "      <td>1</td>\n",
       "    </tr>\n",
       "    <tr>\n",
       "      <th>3</th>\n",
       "      <td>3</td>\n",
       "      <td>2013-10-07</td>\n",
       "      <td>1</td>\n",
       "      <td>0</td>\n",
       "      <td>0</td>\n",
       "      <td>0</td>\n",
       "      <td>0</td>\n",
       "      <td>0</td>\n",
       "      <td>0</td>\n",
       "      <td>0</td>\n",
       "      <td>...</td>\n",
       "      <td>10</td>\n",
       "      <td>91</td>\n",
       "      <td>101</td>\n",
       "      <td>2.316667</td>\n",
       "      <td>6.416667</td>\n",
       "      <td>0.0</td>\n",
       "      <td>176</td>\n",
       "      <td>13.333333</td>\n",
       "      <td>0</td>\n",
       "      <td>0</td>\n",
       "    </tr>\n",
       "    <tr>\n",
       "      <th>4</th>\n",
       "      <td>4</td>\n",
       "      <td>2013-10-08</td>\n",
       "      <td>0</td>\n",
       "      <td>1</td>\n",
       "      <td>0</td>\n",
       "      <td>0</td>\n",
       "      <td>0</td>\n",
       "      <td>0</td>\n",
       "      <td>0</td>\n",
       "      <td>0</td>\n",
       "      <td>...</td>\n",
       "      <td>20</td>\n",
       "      <td>98</td>\n",
       "      <td>118</td>\n",
       "      <td>1.658333</td>\n",
       "      <td>8.000000</td>\n",
       "      <td>0.0</td>\n",
       "      <td>0</td>\n",
       "      <td>13.541667</td>\n",
       "      <td>0</td>\n",
       "      <td>0</td>\n",
       "    </tr>\n",
       "  </tbody>\n",
       "</table>\n",
       "<p>5 rows × 41 columns</p>\n",
       "</div>"
      ],
      "text/plain": [
       "   Unnamed: 0 Demand Date  Monday  Tuesday  Wednesday  Thursday  Friday  \\\n",
       "0           0  2013-10-04       0        0          0         0       1   \n",
       "1           1  2013-10-05       0        0          0         0       0   \n",
       "2           2  2013-10-06       0        0          0         0       0   \n",
       "3           3  2013-10-07       1        0          0         0       0   \n",
       "4           4  2013-10-08       0        1          0         0       0   \n",
       "\n",
       "   Saturday  Sunday  January  ...  Total Fish Production  \\\n",
       "0         0       0        0  ...                     24   \n",
       "1         1       0        0  ...                     21   \n",
       "2         0       1        0  ...                     22   \n",
       "3         0       0        0  ...                     10   \n",
       "4         0       0        0  ...                     20   \n",
       "\n",
       "   Total Meat Production  Total      Wind  Cloudiness  Precipitation  SUN  \\\n",
       "0                    149    173  1.916667    7.666667            0.1  150   \n",
       "1                    147    168  2.738462    6.923077           10.7    0   \n",
       "2                     69     91  1.364286    8.000000            0.4    0   \n",
       "3                     91    101  2.316667    6.416667            0.0  176   \n",
       "4                     98    118  1.658333    8.000000            0.0    0   \n",
       "\n",
       "   Air temperature  Is Holiday  Weekend  \n",
       "0        15.858333           0        0  \n",
       "1        13.192308           0        1  \n",
       "2        10.571429           0        1  \n",
       "3        13.333333           0        0  \n",
       "4        13.541667           0        0  \n",
       "\n",
       "[5 rows x 41 columns]"
      ]
     },
     "execution_count": 87,
     "metadata": {},
     "output_type": "execute_result"
    }
   ],
   "source": [
    "# importing our data from the last phase\n",
    "df = pd.read_csv('data_cleaned.csv')\n",
    "df.head()"
   ]
  },
  {
   "cell_type": "code",
   "execution_count": 88,
   "id": "2dfc170e",
   "metadata": {},
   "outputs": [],
   "source": [
    "df.drop(columns=df.columns[0], axis=1,  inplace=True)"
   ]
  },
  {
   "cell_type": "code",
   "execution_count": 89,
   "id": "4b0c93f4",
   "metadata": {},
   "outputs": [
    {
     "data": {
      "text/html": [
       "<div>\n",
       "<style scoped>\n",
       "    .dataframe tbody tr th:only-of-type {\n",
       "        vertical-align: middle;\n",
       "    }\n",
       "\n",
       "    .dataframe tbody tr th {\n",
       "        vertical-align: top;\n",
       "    }\n",
       "\n",
       "    .dataframe thead th {\n",
       "        text-align: right;\n",
       "    }\n",
       "</style>\n",
       "<table border=\"1\" class=\"dataframe\">\n",
       "  <thead>\n",
       "    <tr style=\"text-align: right;\">\n",
       "      <th></th>\n",
       "      <th>Demand Date</th>\n",
       "      <th>Monday</th>\n",
       "      <th>Tuesday</th>\n",
       "      <th>Wednesday</th>\n",
       "      <th>Thursday</th>\n",
       "      <th>Friday</th>\n",
       "      <th>Saturday</th>\n",
       "      <th>Sunday</th>\n",
       "      <th>January</th>\n",
       "      <th>February</th>\n",
       "      <th>...</th>\n",
       "      <th>Total Fish Production</th>\n",
       "      <th>Total Meat Production</th>\n",
       "      <th>Total</th>\n",
       "      <th>Wind</th>\n",
       "      <th>Cloudiness</th>\n",
       "      <th>Precipitation</th>\n",
       "      <th>SUN</th>\n",
       "      <th>Air temperature</th>\n",
       "      <th>Is Holiday</th>\n",
       "      <th>Weekend</th>\n",
       "    </tr>\n",
       "  </thead>\n",
       "  <tbody>\n",
       "    <tr>\n",
       "      <th>0</th>\n",
       "      <td>2013-10-04</td>\n",
       "      <td>0</td>\n",
       "      <td>0</td>\n",
       "      <td>0</td>\n",
       "      <td>0</td>\n",
       "      <td>1</td>\n",
       "      <td>0</td>\n",
       "      <td>0</td>\n",
       "      <td>0</td>\n",
       "      <td>0</td>\n",
       "      <td>...</td>\n",
       "      <td>24</td>\n",
       "      <td>149</td>\n",
       "      <td>173</td>\n",
       "      <td>1.916667</td>\n",
       "      <td>7.666667</td>\n",
       "      <td>0.1</td>\n",
       "      <td>150</td>\n",
       "      <td>15.858333</td>\n",
       "      <td>0</td>\n",
       "      <td>0</td>\n",
       "    </tr>\n",
       "    <tr>\n",
       "      <th>1</th>\n",
       "      <td>2013-10-05</td>\n",
       "      <td>0</td>\n",
       "      <td>0</td>\n",
       "      <td>0</td>\n",
       "      <td>0</td>\n",
       "      <td>0</td>\n",
       "      <td>1</td>\n",
       "      <td>0</td>\n",
       "      <td>0</td>\n",
       "      <td>0</td>\n",
       "      <td>...</td>\n",
       "      <td>21</td>\n",
       "      <td>147</td>\n",
       "      <td>168</td>\n",
       "      <td>2.738462</td>\n",
       "      <td>6.923077</td>\n",
       "      <td>10.7</td>\n",
       "      <td>0</td>\n",
       "      <td>13.192308</td>\n",
       "      <td>0</td>\n",
       "      <td>1</td>\n",
       "    </tr>\n",
       "    <tr>\n",
       "      <th>2</th>\n",
       "      <td>2013-10-06</td>\n",
       "      <td>0</td>\n",
       "      <td>0</td>\n",
       "      <td>0</td>\n",
       "      <td>0</td>\n",
       "      <td>0</td>\n",
       "      <td>0</td>\n",
       "      <td>1</td>\n",
       "      <td>0</td>\n",
       "      <td>0</td>\n",
       "      <td>...</td>\n",
       "      <td>22</td>\n",
       "      <td>69</td>\n",
       "      <td>91</td>\n",
       "      <td>1.364286</td>\n",
       "      <td>8.000000</td>\n",
       "      <td>0.4</td>\n",
       "      <td>0</td>\n",
       "      <td>10.571429</td>\n",
       "      <td>0</td>\n",
       "      <td>1</td>\n",
       "    </tr>\n",
       "    <tr>\n",
       "      <th>3</th>\n",
       "      <td>2013-10-07</td>\n",
       "      <td>1</td>\n",
       "      <td>0</td>\n",
       "      <td>0</td>\n",
       "      <td>0</td>\n",
       "      <td>0</td>\n",
       "      <td>0</td>\n",
       "      <td>0</td>\n",
       "      <td>0</td>\n",
       "      <td>0</td>\n",
       "      <td>...</td>\n",
       "      <td>10</td>\n",
       "      <td>91</td>\n",
       "      <td>101</td>\n",
       "      <td>2.316667</td>\n",
       "      <td>6.416667</td>\n",
       "      <td>0.0</td>\n",
       "      <td>176</td>\n",
       "      <td>13.333333</td>\n",
       "      <td>0</td>\n",
       "      <td>0</td>\n",
       "    </tr>\n",
       "    <tr>\n",
       "      <th>4</th>\n",
       "      <td>2013-10-08</td>\n",
       "      <td>0</td>\n",
       "      <td>1</td>\n",
       "      <td>0</td>\n",
       "      <td>0</td>\n",
       "      <td>0</td>\n",
       "      <td>0</td>\n",
       "      <td>0</td>\n",
       "      <td>0</td>\n",
       "      <td>0</td>\n",
       "      <td>...</td>\n",
       "      <td>20</td>\n",
       "      <td>98</td>\n",
       "      <td>118</td>\n",
       "      <td>1.658333</td>\n",
       "      <td>8.000000</td>\n",
       "      <td>0.0</td>\n",
       "      <td>0</td>\n",
       "      <td>13.541667</td>\n",
       "      <td>0</td>\n",
       "      <td>0</td>\n",
       "    </tr>\n",
       "  </tbody>\n",
       "</table>\n",
       "<p>5 rows × 40 columns</p>\n",
       "</div>"
      ],
      "text/plain": [
       "  Demand Date  Monday  Tuesday  Wednesday  Thursday  Friday  Saturday  Sunday  \\\n",
       "0  2013-10-04       0        0          0         0       1         0       0   \n",
       "1  2013-10-05       0        0          0         0       0         1       0   \n",
       "2  2013-10-06       0        0          0         0       0         0       1   \n",
       "3  2013-10-07       1        0          0         0       0         0       0   \n",
       "4  2013-10-08       0        1          0         0       0         0       0   \n",
       "\n",
       "   January  February  ...  Total Fish Production  Total Meat Production  \\\n",
       "0        0         0  ...                     24                    149   \n",
       "1        0         0  ...                     21                    147   \n",
       "2        0         0  ...                     22                     69   \n",
       "3        0         0  ...                     10                     91   \n",
       "4        0         0  ...                     20                     98   \n",
       "\n",
       "   Total      Wind  Cloudiness  Precipitation  SUN  Air temperature  \\\n",
       "0    173  1.916667    7.666667            0.1  150        15.858333   \n",
       "1    168  2.738462    6.923077           10.7    0        13.192308   \n",
       "2     91  1.364286    8.000000            0.4    0        10.571429   \n",
       "3    101  2.316667    6.416667            0.0  176        13.333333   \n",
       "4    118  1.658333    8.000000            0.0    0        13.541667   \n",
       "\n",
       "   Is Holiday  Weekend  \n",
       "0           0        0  \n",
       "1           0        1  \n",
       "2           0        1  \n",
       "3           0        0  \n",
       "4           0        0  \n",
       "\n",
       "[5 rows x 40 columns]"
      ]
     },
     "execution_count": 89,
     "metadata": {},
     "output_type": "execute_result"
    }
   ],
   "source": [
    "df.head()"
   ]
  },
  {
   "cell_type": "code",
   "execution_count": 90,
   "id": "ede40b7e",
   "metadata": {},
   "outputs": [
    {
     "data": {
      "text/plain": [
       "Index(['Demand Date', 'Monday', 'Tuesday', 'Wednesday', 'Thursday', 'Friday',\n",
       "       'Saturday', 'Sunday', 'January', 'February', 'March', 'April', 'May',\n",
       "       'June', 'July', 'August', 'September', 'October', 'November',\n",
       "       'December', '2013', '2014', '2015', 'Calamari', 'Fish', 'Shrimp',\n",
       "       'Chicken', 'Koefte', 'Lamb', 'Steak', 'Total Fish Production',\n",
       "       'Total Meat Production', 'Total', 'Wind', 'Cloudiness', 'Precipitation',\n",
       "       'SUN', 'Air temperature', 'Is Holiday', 'Weekend'],\n",
       "      dtype='object')"
      ]
     },
     "execution_count": 90,
     "metadata": {},
     "output_type": "execute_result"
    }
   ],
   "source": [
    "df.columns"
   ]
  },
  {
   "cell_type": "code",
   "execution_count": 91,
   "id": "44ef46a4",
   "metadata": {},
   "outputs": [],
   "source": [
    "df.rename(columns={'Demand Date':'Date','SUN':'Sun', 'Air temperature':'Air Temperature'}, inplace=True)"
   ]
  },
  {
   "cell_type": "code",
   "execution_count": 92,
   "id": "70afb0f6",
   "metadata": {},
   "outputs": [],
   "source": [
    "df.set_index('Date', inplace=True)"
   ]
  },
  {
   "cell_type": "code",
   "execution_count": 93,
   "id": "d22fe4e4",
   "metadata": {},
   "outputs": [
    {
     "data": {
      "text/html": [
       "<div>\n",
       "<style scoped>\n",
       "    .dataframe tbody tr th:only-of-type {\n",
       "        vertical-align: middle;\n",
       "    }\n",
       "\n",
       "    .dataframe tbody tr th {\n",
       "        vertical-align: top;\n",
       "    }\n",
       "\n",
       "    .dataframe thead th {\n",
       "        text-align: right;\n",
       "    }\n",
       "</style>\n",
       "<table border=\"1\" class=\"dataframe\">\n",
       "  <thead>\n",
       "    <tr style=\"text-align: right;\">\n",
       "      <th></th>\n",
       "      <th>Monday</th>\n",
       "      <th>Tuesday</th>\n",
       "      <th>Wednesday</th>\n",
       "      <th>Thursday</th>\n",
       "      <th>Friday</th>\n",
       "      <th>Saturday</th>\n",
       "      <th>Sunday</th>\n",
       "      <th>January</th>\n",
       "      <th>February</th>\n",
       "      <th>March</th>\n",
       "      <th>...</th>\n",
       "      <th>Total Fish Production</th>\n",
       "      <th>Total Meat Production</th>\n",
       "      <th>Total</th>\n",
       "      <th>Wind</th>\n",
       "      <th>Cloudiness</th>\n",
       "      <th>Precipitation</th>\n",
       "      <th>Sun</th>\n",
       "      <th>Air Temperature</th>\n",
       "      <th>Is Holiday</th>\n",
       "      <th>Weekend</th>\n",
       "    </tr>\n",
       "    <tr>\n",
       "      <th>Date</th>\n",
       "      <th></th>\n",
       "      <th></th>\n",
       "      <th></th>\n",
       "      <th></th>\n",
       "      <th></th>\n",
       "      <th></th>\n",
       "      <th></th>\n",
       "      <th></th>\n",
       "      <th></th>\n",
       "      <th></th>\n",
       "      <th></th>\n",
       "      <th></th>\n",
       "      <th></th>\n",
       "      <th></th>\n",
       "      <th></th>\n",
       "      <th></th>\n",
       "      <th></th>\n",
       "      <th></th>\n",
       "      <th></th>\n",
       "      <th></th>\n",
       "      <th></th>\n",
       "    </tr>\n",
       "  </thead>\n",
       "  <tbody>\n",
       "    <tr>\n",
       "      <th>2013-10-04</th>\n",
       "      <td>0</td>\n",
       "      <td>0</td>\n",
       "      <td>0</td>\n",
       "      <td>0</td>\n",
       "      <td>1</td>\n",
       "      <td>0</td>\n",
       "      <td>0</td>\n",
       "      <td>0</td>\n",
       "      <td>0</td>\n",
       "      <td>0</td>\n",
       "      <td>...</td>\n",
       "      <td>24</td>\n",
       "      <td>149</td>\n",
       "      <td>173</td>\n",
       "      <td>1.916667</td>\n",
       "      <td>7.666667</td>\n",
       "      <td>0.1</td>\n",
       "      <td>150</td>\n",
       "      <td>15.858333</td>\n",
       "      <td>0</td>\n",
       "      <td>0</td>\n",
       "    </tr>\n",
       "    <tr>\n",
       "      <th>2013-10-05</th>\n",
       "      <td>0</td>\n",
       "      <td>0</td>\n",
       "      <td>0</td>\n",
       "      <td>0</td>\n",
       "      <td>0</td>\n",
       "      <td>1</td>\n",
       "      <td>0</td>\n",
       "      <td>0</td>\n",
       "      <td>0</td>\n",
       "      <td>0</td>\n",
       "      <td>...</td>\n",
       "      <td>21</td>\n",
       "      <td>147</td>\n",
       "      <td>168</td>\n",
       "      <td>2.738462</td>\n",
       "      <td>6.923077</td>\n",
       "      <td>10.7</td>\n",
       "      <td>0</td>\n",
       "      <td>13.192308</td>\n",
       "      <td>0</td>\n",
       "      <td>1</td>\n",
       "    </tr>\n",
       "    <tr>\n",
       "      <th>2013-10-06</th>\n",
       "      <td>0</td>\n",
       "      <td>0</td>\n",
       "      <td>0</td>\n",
       "      <td>0</td>\n",
       "      <td>0</td>\n",
       "      <td>0</td>\n",
       "      <td>1</td>\n",
       "      <td>0</td>\n",
       "      <td>0</td>\n",
       "      <td>0</td>\n",
       "      <td>...</td>\n",
       "      <td>22</td>\n",
       "      <td>69</td>\n",
       "      <td>91</td>\n",
       "      <td>1.364286</td>\n",
       "      <td>8.000000</td>\n",
       "      <td>0.4</td>\n",
       "      <td>0</td>\n",
       "      <td>10.571429</td>\n",
       "      <td>0</td>\n",
       "      <td>1</td>\n",
       "    </tr>\n",
       "    <tr>\n",
       "      <th>2013-10-07</th>\n",
       "      <td>1</td>\n",
       "      <td>0</td>\n",
       "      <td>0</td>\n",
       "      <td>0</td>\n",
       "      <td>0</td>\n",
       "      <td>0</td>\n",
       "      <td>0</td>\n",
       "      <td>0</td>\n",
       "      <td>0</td>\n",
       "      <td>0</td>\n",
       "      <td>...</td>\n",
       "      <td>10</td>\n",
       "      <td>91</td>\n",
       "      <td>101</td>\n",
       "      <td>2.316667</td>\n",
       "      <td>6.416667</td>\n",
       "      <td>0.0</td>\n",
       "      <td>176</td>\n",
       "      <td>13.333333</td>\n",
       "      <td>0</td>\n",
       "      <td>0</td>\n",
       "    </tr>\n",
       "    <tr>\n",
       "      <th>2013-10-08</th>\n",
       "      <td>0</td>\n",
       "      <td>1</td>\n",
       "      <td>0</td>\n",
       "      <td>0</td>\n",
       "      <td>0</td>\n",
       "      <td>0</td>\n",
       "      <td>0</td>\n",
       "      <td>0</td>\n",
       "      <td>0</td>\n",
       "      <td>0</td>\n",
       "      <td>...</td>\n",
       "      <td>20</td>\n",
       "      <td>98</td>\n",
       "      <td>118</td>\n",
       "      <td>1.658333</td>\n",
       "      <td>8.000000</td>\n",
       "      <td>0.0</td>\n",
       "      <td>0</td>\n",
       "      <td>13.541667</td>\n",
       "      <td>0</td>\n",
       "      <td>0</td>\n",
       "    </tr>\n",
       "  </tbody>\n",
       "</table>\n",
       "<p>5 rows × 39 columns</p>\n",
       "</div>"
      ],
      "text/plain": [
       "            Monday  Tuesday  Wednesday  Thursday  Friday  Saturday  Sunday  \\\n",
       "Date                                                                         \n",
       "2013-10-04       0        0          0         0       1         0       0   \n",
       "2013-10-05       0        0          0         0       0         1       0   \n",
       "2013-10-06       0        0          0         0       0         0       1   \n",
       "2013-10-07       1        0          0         0       0         0       0   \n",
       "2013-10-08       0        1          0         0       0         0       0   \n",
       "\n",
       "            January  February  March  ...  Total Fish Production  \\\n",
       "Date                                  ...                          \n",
       "2013-10-04        0         0      0  ...                     24   \n",
       "2013-10-05        0         0      0  ...                     21   \n",
       "2013-10-06        0         0      0  ...                     22   \n",
       "2013-10-07        0         0      0  ...                     10   \n",
       "2013-10-08        0         0      0  ...                     20   \n",
       "\n",
       "            Total Meat Production  Total      Wind  Cloudiness  Precipitation  \\\n",
       "Date                                                                            \n",
       "2013-10-04                    149    173  1.916667    7.666667            0.1   \n",
       "2013-10-05                    147    168  2.738462    6.923077           10.7   \n",
       "2013-10-06                     69     91  1.364286    8.000000            0.4   \n",
       "2013-10-07                     91    101  2.316667    6.416667            0.0   \n",
       "2013-10-08                     98    118  1.658333    8.000000            0.0   \n",
       "\n",
       "            Sun  Air Temperature  Is Holiday  Weekend  \n",
       "Date                                                   \n",
       "2013-10-04  150        15.858333           0        0  \n",
       "2013-10-05    0        13.192308           0        1  \n",
       "2013-10-06    0        10.571429           0        1  \n",
       "2013-10-07  176        13.333333           0        0  \n",
       "2013-10-08    0        13.541667           0        0  \n",
       "\n",
       "[5 rows x 39 columns]"
      ]
     },
     "execution_count": 93,
     "metadata": {},
     "output_type": "execute_result"
    }
   ],
   "source": [
    "df.head()"
   ]
  },
  {
   "cell_type": "code",
   "execution_count": 94,
   "id": "9bea0931",
   "metadata": {
    "scrolled": false
   },
   "outputs": [
    {
     "data": {
      "text/html": [
       "<div>\n",
       "<style scoped>\n",
       "    .dataframe tbody tr th:only-of-type {\n",
       "        vertical-align: middle;\n",
       "    }\n",
       "\n",
       "    .dataframe tbody tr th {\n",
       "        vertical-align: top;\n",
       "    }\n",
       "\n",
       "    .dataframe thead th {\n",
       "        text-align: right;\n",
       "    }\n",
       "</style>\n",
       "<table border=\"1\" class=\"dataframe\">\n",
       "  <thead>\n",
       "    <tr style=\"text-align: right;\">\n",
       "      <th></th>\n",
       "      <th>Monday</th>\n",
       "      <th>Tuesday</th>\n",
       "      <th>Wednesday</th>\n",
       "      <th>Thursday</th>\n",
       "      <th>Friday</th>\n",
       "      <th>Saturday</th>\n",
       "      <th>Sunday</th>\n",
       "      <th>January</th>\n",
       "      <th>February</th>\n",
       "      <th>March</th>\n",
       "      <th>...</th>\n",
       "      <th>Total Fish Production</th>\n",
       "      <th>Total Meat Production</th>\n",
       "      <th>Total</th>\n",
       "      <th>Wind</th>\n",
       "      <th>Cloudiness</th>\n",
       "      <th>Precipitation</th>\n",
       "      <th>Sun</th>\n",
       "      <th>Air Temperature</th>\n",
       "      <th>Is Holiday</th>\n",
       "      <th>Weekend</th>\n",
       "    </tr>\n",
       "  </thead>\n",
       "  <tbody>\n",
       "    <tr>\n",
       "      <th>count</th>\n",
       "      <td>760.000000</td>\n",
       "      <td>760.000000</td>\n",
       "      <td>760.000000</td>\n",
       "      <td>760.000000</td>\n",
       "      <td>760.000000</td>\n",
       "      <td>760.000000</td>\n",
       "      <td>760.000000</td>\n",
       "      <td>760.000000</td>\n",
       "      <td>760.000000</td>\n",
       "      <td>760.000000</td>\n",
       "      <td>...</td>\n",
       "      <td>760.000000</td>\n",
       "      <td>760.000000</td>\n",
       "      <td>760.000000</td>\n",
       "      <td>760.000000</td>\n",
       "      <td>760.000000</td>\n",
       "      <td>760.000000</td>\n",
       "      <td>760.000000</td>\n",
       "      <td>760.000000</td>\n",
       "      <td>760.000000</td>\n",
       "      <td>760.000000</td>\n",
       "    </tr>\n",
       "    <tr>\n",
       "      <th>mean</th>\n",
       "      <td>0.143421</td>\n",
       "      <td>0.143421</td>\n",
       "      <td>0.139474</td>\n",
       "      <td>0.142105</td>\n",
       "      <td>0.143421</td>\n",
       "      <td>0.144737</td>\n",
       "      <td>0.143421</td>\n",
       "      <td>0.081579</td>\n",
       "      <td>0.073684</td>\n",
       "      <td>0.081579</td>\n",
       "      <td>...</td>\n",
       "      <td>18.959211</td>\n",
       "      <td>106.605263</td>\n",
       "      <td>125.564474</td>\n",
       "      <td>3.059081</td>\n",
       "      <td>5.073017</td>\n",
       "      <td>0.814474</td>\n",
       "      <td>236.393421</td>\n",
       "      <td>13.350236</td>\n",
       "      <td>0.028947</td>\n",
       "      <td>0.288158</td>\n",
       "    </tr>\n",
       "    <tr>\n",
       "      <th>std</th>\n",
       "      <td>0.350733</td>\n",
       "      <td>0.350733</td>\n",
       "      <td>0.346668</td>\n",
       "      <td>0.349388</td>\n",
       "      <td>0.350733</td>\n",
       "      <td>0.352067</td>\n",
       "      <td>0.350733</td>\n",
       "      <td>0.273902</td>\n",
       "      <td>0.261428</td>\n",
       "      <td>0.273902</td>\n",
       "      <td>...</td>\n",
       "      <td>7.619555</td>\n",
       "      <td>36.962460</td>\n",
       "      <td>42.643771</td>\n",
       "      <td>1.238119</td>\n",
       "      <td>2.364592</td>\n",
       "      <td>2.700388</td>\n",
       "      <td>207.381674</td>\n",
       "      <td>7.644363</td>\n",
       "      <td>0.167769</td>\n",
       "      <td>0.453203</td>\n",
       "    </tr>\n",
       "    <tr>\n",
       "      <th>min</th>\n",
       "      <td>0.000000</td>\n",
       "      <td>0.000000</td>\n",
       "      <td>0.000000</td>\n",
       "      <td>0.000000</td>\n",
       "      <td>0.000000</td>\n",
       "      <td>0.000000</td>\n",
       "      <td>0.000000</td>\n",
       "      <td>0.000000</td>\n",
       "      <td>0.000000</td>\n",
       "      <td>0.000000</td>\n",
       "      <td>...</td>\n",
       "      <td>3.000000</td>\n",
       "      <td>7.000000</td>\n",
       "      <td>12.000000</td>\n",
       "      <td>1.058333</td>\n",
       "      <td>0.000000</td>\n",
       "      <td>0.000000</td>\n",
       "      <td>0.000000</td>\n",
       "      <td>-5.942857</td>\n",
       "      <td>0.000000</td>\n",
       "      <td>0.000000</td>\n",
       "    </tr>\n",
       "    <tr>\n",
       "      <th>25%</th>\n",
       "      <td>0.000000</td>\n",
       "      <td>0.000000</td>\n",
       "      <td>0.000000</td>\n",
       "      <td>0.000000</td>\n",
       "      <td>0.000000</td>\n",
       "      <td>0.000000</td>\n",
       "      <td>0.000000</td>\n",
       "      <td>0.000000</td>\n",
       "      <td>0.000000</td>\n",
       "      <td>0.000000</td>\n",
       "      <td>...</td>\n",
       "      <td>14.000000</td>\n",
       "      <td>83.000000</td>\n",
       "      <td>98.750000</td>\n",
       "      <td>2.162798</td>\n",
       "      <td>3.083333</td>\n",
       "      <td>0.000000</td>\n",
       "      <td>33.500000</td>\n",
       "      <td>7.055288</td>\n",
       "      <td>0.000000</td>\n",
       "      <td>0.000000</td>\n",
       "    </tr>\n",
       "    <tr>\n",
       "      <th>50%</th>\n",
       "      <td>0.000000</td>\n",
       "      <td>0.000000</td>\n",
       "      <td>0.000000</td>\n",
       "      <td>0.000000</td>\n",
       "      <td>0.000000</td>\n",
       "      <td>0.000000</td>\n",
       "      <td>0.000000</td>\n",
       "      <td>0.000000</td>\n",
       "      <td>0.000000</td>\n",
       "      <td>0.000000</td>\n",
       "      <td>...</td>\n",
       "      <td>18.000000</td>\n",
       "      <td>100.000000</td>\n",
       "      <td>119.000000</td>\n",
       "      <td>2.856090</td>\n",
       "      <td>5.583333</td>\n",
       "      <td>0.000000</td>\n",
       "      <td>206.500000</td>\n",
       "      <td>13.733333</td>\n",
       "      <td>0.000000</td>\n",
       "      <td>0.000000</td>\n",
       "    </tr>\n",
       "    <tr>\n",
       "      <th>75%</th>\n",
       "      <td>0.000000</td>\n",
       "      <td>0.000000</td>\n",
       "      <td>0.000000</td>\n",
       "      <td>0.000000</td>\n",
       "      <td>0.000000</td>\n",
       "      <td>0.000000</td>\n",
       "      <td>0.000000</td>\n",
       "      <td>0.000000</td>\n",
       "      <td>0.000000</td>\n",
       "      <td>0.000000</td>\n",
       "      <td>...</td>\n",
       "      <td>23.000000</td>\n",
       "      <td>123.000000</td>\n",
       "      <td>145.000000</td>\n",
       "      <td>3.626442</td>\n",
       "      <td>7.166667</td>\n",
       "      <td>0.200000</td>\n",
       "      <td>406.250000</td>\n",
       "      <td>18.335417</td>\n",
       "      <td>0.000000</td>\n",
       "      <td>1.000000</td>\n",
       "    </tr>\n",
       "    <tr>\n",
       "      <th>max</th>\n",
       "      <td>1.000000</td>\n",
       "      <td>1.000000</td>\n",
       "      <td>1.000000</td>\n",
       "      <td>1.000000</td>\n",
       "      <td>1.000000</td>\n",
       "      <td>1.000000</td>\n",
       "      <td>1.000000</td>\n",
       "      <td>1.000000</td>\n",
       "      <td>1.000000</td>\n",
       "      <td>1.000000</td>\n",
       "      <td>...</td>\n",
       "      <td>62.000000</td>\n",
       "      <td>285.000000</td>\n",
       "      <td>333.000000</td>\n",
       "      <td>11.391667</td>\n",
       "      <td>8.000000</td>\n",
       "      <td>37.400000</td>\n",
       "      <td>782.000000</td>\n",
       "      <td>34.891667</td>\n",
       "      <td>1.000000</td>\n",
       "      <td>1.000000</td>\n",
       "    </tr>\n",
       "  </tbody>\n",
       "</table>\n",
       "<p>8 rows × 39 columns</p>\n",
       "</div>"
      ],
      "text/plain": [
       "           Monday     Tuesday   Wednesday    Thursday      Friday    Saturday  \\\n",
       "count  760.000000  760.000000  760.000000  760.000000  760.000000  760.000000   \n",
       "mean     0.143421    0.143421    0.139474    0.142105    0.143421    0.144737   \n",
       "std      0.350733    0.350733    0.346668    0.349388    0.350733    0.352067   \n",
       "min      0.000000    0.000000    0.000000    0.000000    0.000000    0.000000   \n",
       "25%      0.000000    0.000000    0.000000    0.000000    0.000000    0.000000   \n",
       "50%      0.000000    0.000000    0.000000    0.000000    0.000000    0.000000   \n",
       "75%      0.000000    0.000000    0.000000    0.000000    0.000000    0.000000   \n",
       "max      1.000000    1.000000    1.000000    1.000000    1.000000    1.000000   \n",
       "\n",
       "           Sunday     January    February       March  ...  \\\n",
       "count  760.000000  760.000000  760.000000  760.000000  ...   \n",
       "mean     0.143421    0.081579    0.073684    0.081579  ...   \n",
       "std      0.350733    0.273902    0.261428    0.273902  ...   \n",
       "min      0.000000    0.000000    0.000000    0.000000  ...   \n",
       "25%      0.000000    0.000000    0.000000    0.000000  ...   \n",
       "50%      0.000000    0.000000    0.000000    0.000000  ...   \n",
       "75%      0.000000    0.000000    0.000000    0.000000  ...   \n",
       "max      1.000000    1.000000    1.000000    1.000000  ...   \n",
       "\n",
       "       Total Fish Production  Total Meat Production       Total        Wind  \\\n",
       "count             760.000000             760.000000  760.000000  760.000000   \n",
       "mean               18.959211             106.605263  125.564474    3.059081   \n",
       "std                 7.619555              36.962460   42.643771    1.238119   \n",
       "min                 3.000000               7.000000   12.000000    1.058333   \n",
       "25%                14.000000              83.000000   98.750000    2.162798   \n",
       "50%                18.000000             100.000000  119.000000    2.856090   \n",
       "75%                23.000000             123.000000  145.000000    3.626442   \n",
       "max                62.000000             285.000000  333.000000   11.391667   \n",
       "\n",
       "       Cloudiness  Precipitation         Sun  Air Temperature  Is Holiday  \\\n",
       "count  760.000000     760.000000  760.000000       760.000000  760.000000   \n",
       "mean     5.073017       0.814474  236.393421        13.350236    0.028947   \n",
       "std      2.364592       2.700388  207.381674         7.644363    0.167769   \n",
       "min      0.000000       0.000000    0.000000        -5.942857    0.000000   \n",
       "25%      3.083333       0.000000   33.500000         7.055288    0.000000   \n",
       "50%      5.583333       0.000000  206.500000        13.733333    0.000000   \n",
       "75%      7.166667       0.200000  406.250000        18.335417    0.000000   \n",
       "max      8.000000      37.400000  782.000000        34.891667    1.000000   \n",
       "\n",
       "          Weekend  \n",
       "count  760.000000  \n",
       "mean     0.288158  \n",
       "std      0.453203  \n",
       "min      0.000000  \n",
       "25%      0.000000  \n",
       "50%      0.000000  \n",
       "75%      1.000000  \n",
       "max      1.000000  \n",
       "\n",
       "[8 rows x 39 columns]"
      ]
     },
     "execution_count": 94,
     "metadata": {},
     "output_type": "execute_result"
    }
   ],
   "source": [
    "df.describe()"
   ]
  },
  {
   "cell_type": "markdown",
   "id": "fc9a6c54",
   "metadata": {},
   "source": [
    "## Splitting Data into Test and Train Sets"
   ]
  },
  {
   "cell_type": "markdown",
   "id": "c1d49852",
   "metadata": {},
   "source": [
    "Before we move onto any of our standardization steps we should split the data into test and train sets so that we can treat them as individual datasets."
   ]
  },
  {
   "cell_type": "code",
   "execution_count": 95,
   "id": "27c4f430",
   "metadata": {
    "scrolled": true
   },
   "outputs": [
    {
     "data": {
      "text/plain": [
       "Index(['Monday', 'Tuesday', 'Wednesday', 'Thursday', 'Friday', 'Saturday',\n",
       "       'Sunday', 'January', 'February', 'March', 'April', 'May', 'June',\n",
       "       'July', 'August', 'September', 'October', 'November', 'December',\n",
       "       '2013', '2014', '2015', 'Calamari', 'Fish', 'Shrimp', 'Chicken',\n",
       "       'Koefte', 'Lamb', 'Steak', 'Total Fish Production',\n",
       "       'Total Meat Production', 'Total', 'Wind', 'Cloudiness', 'Precipitation',\n",
       "       'Sun', 'Air Temperature', 'Is Holiday', 'Weekend'],\n",
       "      dtype='object')"
      ]
     },
     "execution_count": 95,
     "metadata": {},
     "output_type": "execute_result"
    }
   ],
   "source": [
    "df.columns"
   ]
  },
  {
   "cell_type": "markdown",
   "id": "7b661872",
   "metadata": {},
   "source": [
    "Since we are working to predict not only overall demand but individual demands of various products, our responding variable will be multidimensional and contain several columns."
   ]
  },
  {
   "cell_type": "code",
   "execution_count": 96,
   "id": "0bbf0c76",
   "metadata": {},
   "outputs": [],
   "source": [
    "X = df.drop(columns=['Calamari', 'Fish', 'Shrimp', 'Chicken', 'Koefte', 'Lamb', 'Steak', 'Total Fish Production', 'Total Meat Production', 'Total'], axis=1)\n",
    "y = df.loc[:,'Calamari':'Total Meat Production']"
   ]
  },
  {
   "cell_type": "code",
   "execution_count": 97,
   "id": "95598a78",
   "metadata": {},
   "outputs": [],
   "source": [
    "X_train, X_test, y_train, y_test = train_test_split(X, y, test_size=0.3, random_state=42)"
   ]
  },
  {
   "cell_type": "code",
   "execution_count": 98,
   "id": "f1ec31af",
   "metadata": {},
   "outputs": [],
   "source": [
    "# set aside a copy of the original state of X_train for selective training down the line\n",
    "X_train_orig = X_train.copy()"
   ]
  },
  {
   "cell_type": "code",
   "execution_count": 99,
   "id": "0c33175d",
   "metadata": {},
   "outputs": [
    {
     "data": {
      "text/html": [
       "<div>\n",
       "<style scoped>\n",
       "    .dataframe tbody tr th:only-of-type {\n",
       "        vertical-align: middle;\n",
       "    }\n",
       "\n",
       "    .dataframe tbody tr th {\n",
       "        vertical-align: top;\n",
       "    }\n",
       "\n",
       "    .dataframe thead th {\n",
       "        text-align: right;\n",
       "    }\n",
       "</style>\n",
       "<table border=\"1\" class=\"dataframe\">\n",
       "  <thead>\n",
       "    <tr style=\"text-align: right;\">\n",
       "      <th></th>\n",
       "      <th>Monday</th>\n",
       "      <th>Tuesday</th>\n",
       "      <th>Wednesday</th>\n",
       "      <th>Thursday</th>\n",
       "      <th>Friday</th>\n",
       "      <th>Saturday</th>\n",
       "      <th>Sunday</th>\n",
       "      <th>January</th>\n",
       "      <th>February</th>\n",
       "      <th>March</th>\n",
       "      <th>...</th>\n",
       "      <th>2013</th>\n",
       "      <th>2014</th>\n",
       "      <th>2015</th>\n",
       "      <th>Wind</th>\n",
       "      <th>Cloudiness</th>\n",
       "      <th>Precipitation</th>\n",
       "      <th>Sun</th>\n",
       "      <th>Air Temperature</th>\n",
       "      <th>Is Holiday</th>\n",
       "      <th>Weekend</th>\n",
       "    </tr>\n",
       "  </thead>\n",
       "  <tbody>\n",
       "    <tr>\n",
       "      <th>count</th>\n",
       "      <td>532.000000</td>\n",
       "      <td>532.000000</td>\n",
       "      <td>532.000000</td>\n",
       "      <td>532.000000</td>\n",
       "      <td>532.000000</td>\n",
       "      <td>532.000000</td>\n",
       "      <td>532.000000</td>\n",
       "      <td>532.000000</td>\n",
       "      <td>532.000000</td>\n",
       "      <td>532.000000</td>\n",
       "      <td>...</td>\n",
       "      <td>532.000000</td>\n",
       "      <td>532.000000</td>\n",
       "      <td>532.000000</td>\n",
       "      <td>532.000000</td>\n",
       "      <td>532.000000</td>\n",
       "      <td>532.000000</td>\n",
       "      <td>532.000000</td>\n",
       "      <td>532.000000</td>\n",
       "      <td>532.000000</td>\n",
       "      <td>532.000000</td>\n",
       "    </tr>\n",
       "    <tr>\n",
       "      <th>mean</th>\n",
       "      <td>0.150376</td>\n",
       "      <td>0.131579</td>\n",
       "      <td>0.142857</td>\n",
       "      <td>0.146617</td>\n",
       "      <td>0.125940</td>\n",
       "      <td>0.157895</td>\n",
       "      <td>0.144737</td>\n",
       "      <td>0.086466</td>\n",
       "      <td>0.075188</td>\n",
       "      <td>0.090226</td>\n",
       "      <td>...</td>\n",
       "      <td>0.099624</td>\n",
       "      <td>0.479323</td>\n",
       "      <td>0.421053</td>\n",
       "      <td>3.046774</td>\n",
       "      <td>4.978743</td>\n",
       "      <td>0.732331</td>\n",
       "      <td>246.236842</td>\n",
       "      <td>13.477226</td>\n",
       "      <td>0.022556</td>\n",
       "      <td>0.302632</td>\n",
       "    </tr>\n",
       "    <tr>\n",
       "      <th>std</th>\n",
       "      <td>0.357776</td>\n",
       "      <td>0.338351</td>\n",
       "      <td>0.350256</td>\n",
       "      <td>0.354056</td>\n",
       "      <td>0.332094</td>\n",
       "      <td>0.364985</td>\n",
       "      <td>0.352166</td>\n",
       "      <td>0.281316</td>\n",
       "      <td>0.263943</td>\n",
       "      <td>0.286774</td>\n",
       "      <td>...</td>\n",
       "      <td>0.299780</td>\n",
       "      <td>0.500042</td>\n",
       "      <td>0.494193</td>\n",
       "      <td>1.190236</td>\n",
       "      <td>2.394437</td>\n",
       "      <td>2.807370</td>\n",
       "      <td>211.181289</td>\n",
       "      <td>7.670927</td>\n",
       "      <td>0.148624</td>\n",
       "      <td>0.459829</td>\n",
       "    </tr>\n",
       "    <tr>\n",
       "      <th>min</th>\n",
       "      <td>0.000000</td>\n",
       "      <td>0.000000</td>\n",
       "      <td>0.000000</td>\n",
       "      <td>0.000000</td>\n",
       "      <td>0.000000</td>\n",
       "      <td>0.000000</td>\n",
       "      <td>0.000000</td>\n",
       "      <td>0.000000</td>\n",
       "      <td>0.000000</td>\n",
       "      <td>0.000000</td>\n",
       "      <td>...</td>\n",
       "      <td>0.000000</td>\n",
       "      <td>0.000000</td>\n",
       "      <td>0.000000</td>\n",
       "      <td>1.116667</td>\n",
       "      <td>0.000000</td>\n",
       "      <td>0.000000</td>\n",
       "      <td>0.000000</td>\n",
       "      <td>-5.942857</td>\n",
       "      <td>0.000000</td>\n",
       "      <td>0.000000</td>\n",
       "    </tr>\n",
       "    <tr>\n",
       "      <th>25%</th>\n",
       "      <td>0.000000</td>\n",
       "      <td>0.000000</td>\n",
       "      <td>0.000000</td>\n",
       "      <td>0.000000</td>\n",
       "      <td>0.000000</td>\n",
       "      <td>0.000000</td>\n",
       "      <td>0.000000</td>\n",
       "      <td>0.000000</td>\n",
       "      <td>0.000000</td>\n",
       "      <td>0.000000</td>\n",
       "      <td>...</td>\n",
       "      <td>0.000000</td>\n",
       "      <td>0.000000</td>\n",
       "      <td>0.000000</td>\n",
       "      <td>2.166071</td>\n",
       "      <td>3.080357</td>\n",
       "      <td>0.000000</td>\n",
       "      <td>41.500000</td>\n",
       "      <td>7.097917</td>\n",
       "      <td>0.000000</td>\n",
       "      <td>0.000000</td>\n",
       "    </tr>\n",
       "    <tr>\n",
       "      <th>50%</th>\n",
       "      <td>0.000000</td>\n",
       "      <td>0.000000</td>\n",
       "      <td>0.000000</td>\n",
       "      <td>0.000000</td>\n",
       "      <td>0.000000</td>\n",
       "      <td>0.000000</td>\n",
       "      <td>0.000000</td>\n",
       "      <td>0.000000</td>\n",
       "      <td>0.000000</td>\n",
       "      <td>0.000000</td>\n",
       "      <td>...</td>\n",
       "      <td>0.000000</td>\n",
       "      <td>0.000000</td>\n",
       "      <td>0.000000</td>\n",
       "      <td>2.851923</td>\n",
       "      <td>5.439103</td>\n",
       "      <td>0.000000</td>\n",
       "      <td>216.500000</td>\n",
       "      <td>13.820833</td>\n",
       "      <td>0.000000</td>\n",
       "      <td>0.000000</td>\n",
       "    </tr>\n",
       "    <tr>\n",
       "      <th>75%</th>\n",
       "      <td>0.000000</td>\n",
       "      <td>0.000000</td>\n",
       "      <td>0.000000</td>\n",
       "      <td>0.000000</td>\n",
       "      <td>0.000000</td>\n",
       "      <td>0.000000</td>\n",
       "      <td>0.000000</td>\n",
       "      <td>0.000000</td>\n",
       "      <td>0.000000</td>\n",
       "      <td>0.000000</td>\n",
       "      <td>...</td>\n",
       "      <td>0.000000</td>\n",
       "      <td>1.000000</td>\n",
       "      <td>1.000000</td>\n",
       "      <td>3.667857</td>\n",
       "      <td>7.098214</td>\n",
       "      <td>0.100000</td>\n",
       "      <td>427.250000</td>\n",
       "      <td>18.350000</td>\n",
       "      <td>0.000000</td>\n",
       "      <td>1.000000</td>\n",
       "    </tr>\n",
       "    <tr>\n",
       "      <th>max</th>\n",
       "      <td>1.000000</td>\n",
       "      <td>1.000000</td>\n",
       "      <td>1.000000</td>\n",
       "      <td>1.000000</td>\n",
       "      <td>1.000000</td>\n",
       "      <td>1.000000</td>\n",
       "      <td>1.000000</td>\n",
       "      <td>1.000000</td>\n",
       "      <td>1.000000</td>\n",
       "      <td>1.000000</td>\n",
       "      <td>...</td>\n",
       "      <td>1.000000</td>\n",
       "      <td>1.000000</td>\n",
       "      <td>1.000000</td>\n",
       "      <td>8.138462</td>\n",
       "      <td>8.000000</td>\n",
       "      <td>37.400000</td>\n",
       "      <td>782.000000</td>\n",
       "      <td>34.891667</td>\n",
       "      <td>1.000000</td>\n",
       "      <td>1.000000</td>\n",
       "    </tr>\n",
       "  </tbody>\n",
       "</table>\n",
       "<p>8 rows × 29 columns</p>\n",
       "</div>"
      ],
      "text/plain": [
       "           Monday     Tuesday   Wednesday    Thursday      Friday    Saturday  \\\n",
       "count  532.000000  532.000000  532.000000  532.000000  532.000000  532.000000   \n",
       "mean     0.150376    0.131579    0.142857    0.146617    0.125940    0.157895   \n",
       "std      0.357776    0.338351    0.350256    0.354056    0.332094    0.364985   \n",
       "min      0.000000    0.000000    0.000000    0.000000    0.000000    0.000000   \n",
       "25%      0.000000    0.000000    0.000000    0.000000    0.000000    0.000000   \n",
       "50%      0.000000    0.000000    0.000000    0.000000    0.000000    0.000000   \n",
       "75%      0.000000    0.000000    0.000000    0.000000    0.000000    0.000000   \n",
       "max      1.000000    1.000000    1.000000    1.000000    1.000000    1.000000   \n",
       "\n",
       "           Sunday     January    February       March  ...        2013  \\\n",
       "count  532.000000  532.000000  532.000000  532.000000  ...  532.000000   \n",
       "mean     0.144737    0.086466    0.075188    0.090226  ...    0.099624   \n",
       "std      0.352166    0.281316    0.263943    0.286774  ...    0.299780   \n",
       "min      0.000000    0.000000    0.000000    0.000000  ...    0.000000   \n",
       "25%      0.000000    0.000000    0.000000    0.000000  ...    0.000000   \n",
       "50%      0.000000    0.000000    0.000000    0.000000  ...    0.000000   \n",
       "75%      0.000000    0.000000    0.000000    0.000000  ...    0.000000   \n",
       "max      1.000000    1.000000    1.000000    1.000000  ...    1.000000   \n",
       "\n",
       "             2014        2015        Wind  Cloudiness  Precipitation  \\\n",
       "count  532.000000  532.000000  532.000000  532.000000     532.000000   \n",
       "mean     0.479323    0.421053    3.046774    4.978743       0.732331   \n",
       "std      0.500042    0.494193    1.190236    2.394437       2.807370   \n",
       "min      0.000000    0.000000    1.116667    0.000000       0.000000   \n",
       "25%      0.000000    0.000000    2.166071    3.080357       0.000000   \n",
       "50%      0.000000    0.000000    2.851923    5.439103       0.000000   \n",
       "75%      1.000000    1.000000    3.667857    7.098214       0.100000   \n",
       "max      1.000000    1.000000    8.138462    8.000000      37.400000   \n",
       "\n",
       "              Sun  Air Temperature  Is Holiday     Weekend  \n",
       "count  532.000000       532.000000  532.000000  532.000000  \n",
       "mean   246.236842        13.477226    0.022556    0.302632  \n",
       "std    211.181289         7.670927    0.148624    0.459829  \n",
       "min      0.000000        -5.942857    0.000000    0.000000  \n",
       "25%     41.500000         7.097917    0.000000    0.000000  \n",
       "50%    216.500000        13.820833    0.000000    0.000000  \n",
       "75%    427.250000        18.350000    0.000000    1.000000  \n",
       "max    782.000000        34.891667    1.000000    1.000000  \n",
       "\n",
       "[8 rows x 29 columns]"
      ]
     },
     "execution_count": 99,
     "metadata": {},
     "output_type": "execute_result"
    }
   ],
   "source": [
    "X_train.describe()"
   ]
  },
  {
   "cell_type": "markdown",
   "id": "4112c1d6",
   "metadata": {},
   "source": [
    "Now from what we can see, this data set already came with the days of the week,months, and year turned into dummy variables. So we can exclude these from any preprocessing steps for now and then join them back into our dataset before we move onto modelling.\n",
    "\n",
    "Additionally, you can see above because there are vastly different kinds of units being measured across the various columns it is a good idea for us to standardize them such that no one variable dominates the analysis being done due to the scale of its measurements. For example, we can see above that wind is measured in vastly different units than Sun - with a range of 10 units whereas Sun has a range of 782. "
   ]
  },
  {
   "cell_type": "markdown",
   "id": "d54f26d5",
   "metadata": {},
   "source": [
    "## Standardizing Train and Test Sets"
   ]
  },
  {
   "cell_type": "code",
   "execution_count": 100,
   "id": "6e114090",
   "metadata": {},
   "outputs": [
    {
     "data": {
      "text/plain": [
       "Index(['Monday', 'Tuesday', 'Wednesday', 'Thursday', 'Friday', 'Saturday',\n",
       "       'Sunday', 'January', 'February', 'March', 'April', 'May', 'June',\n",
       "       'July', 'August', 'September', 'October', 'November', 'December',\n",
       "       '2013', '2014', '2015', 'Wind', 'Cloudiness', 'Precipitation', 'Sun',\n",
       "       'Air Temperature', 'Is Holiday', 'Weekend'],\n",
       "      dtype='object')"
      ]
     },
     "execution_count": 100,
     "metadata": {},
     "output_type": "execute_result"
    }
   ],
   "source": [
    "X_train.columns"
   ]
  },
  {
   "cell_type": "code",
   "execution_count": 101,
   "id": "a2d50999",
   "metadata": {},
   "outputs": [],
   "source": [
    "X_std_columns = ['Wind', 'Cloudiness', 'Precipitation', 'Sun', 'Air Temperature']"
   ]
  },
  {
   "cell_type": "code",
   "execution_count": 102,
   "id": "f97250c8",
   "metadata": {},
   "outputs": [],
   "source": [
    "# initiate standard scaler\n",
    "ss = StandardScaler()"
   ]
  },
  {
   "cell_type": "code",
   "execution_count": 103,
   "id": "bec9b8e0",
   "metadata": {},
   "outputs": [],
   "source": [
    "# standardize those columns\n",
    "ss.fit(X_train[X_std_columns])\n",
    "X_scaled = ss.transform(X_train[X_std_columns])"
   ]
  },
  {
   "cell_type": "code",
   "execution_count": 104,
   "id": "07f182c1",
   "metadata": {},
   "outputs": [],
   "source": [
    "X_train[X_std_columns] = X_scaled"
   ]
  },
  {
   "cell_type": "code",
   "execution_count": 105,
   "id": "f0deb69d",
   "metadata": {},
   "outputs": [
    {
     "data": {
      "text/html": [
       "<div>\n",
       "<style scoped>\n",
       "    .dataframe tbody tr th:only-of-type {\n",
       "        vertical-align: middle;\n",
       "    }\n",
       "\n",
       "    .dataframe tbody tr th {\n",
       "        vertical-align: top;\n",
       "    }\n",
       "\n",
       "    .dataframe thead th {\n",
       "        text-align: right;\n",
       "    }\n",
       "</style>\n",
       "<table border=\"1\" class=\"dataframe\">\n",
       "  <thead>\n",
       "    <tr style=\"text-align: right;\">\n",
       "      <th></th>\n",
       "      <th>Monday</th>\n",
       "      <th>Tuesday</th>\n",
       "      <th>Wednesday</th>\n",
       "      <th>Thursday</th>\n",
       "      <th>Friday</th>\n",
       "      <th>Saturday</th>\n",
       "      <th>Sunday</th>\n",
       "      <th>January</th>\n",
       "      <th>February</th>\n",
       "      <th>March</th>\n",
       "      <th>...</th>\n",
       "      <th>2013</th>\n",
       "      <th>2014</th>\n",
       "      <th>2015</th>\n",
       "      <th>Wind</th>\n",
       "      <th>Cloudiness</th>\n",
       "      <th>Precipitation</th>\n",
       "      <th>Sun</th>\n",
       "      <th>Air Temperature</th>\n",
       "      <th>Is Holiday</th>\n",
       "      <th>Weekend</th>\n",
       "    </tr>\n",
       "    <tr>\n",
       "      <th>Date</th>\n",
       "      <th></th>\n",
       "      <th></th>\n",
       "      <th></th>\n",
       "      <th></th>\n",
       "      <th></th>\n",
       "      <th></th>\n",
       "      <th></th>\n",
       "      <th></th>\n",
       "      <th></th>\n",
       "      <th></th>\n",
       "      <th></th>\n",
       "      <th></th>\n",
       "      <th></th>\n",
       "      <th></th>\n",
       "      <th></th>\n",
       "      <th></th>\n",
       "      <th></th>\n",
       "      <th></th>\n",
       "      <th></th>\n",
       "      <th></th>\n",
       "      <th></th>\n",
       "    </tr>\n",
       "  </thead>\n",
       "  <tbody>\n",
       "    <tr>\n",
       "      <th>2015-02-22</th>\n",
       "      <td>0</td>\n",
       "      <td>0</td>\n",
       "      <td>0</td>\n",
       "      <td>0</td>\n",
       "      <td>0</td>\n",
       "      <td>0</td>\n",
       "      <td>1</td>\n",
       "      <td>0</td>\n",
       "      <td>1</td>\n",
       "      <td>0</td>\n",
       "      <td>...</td>\n",
       "      <td>0</td>\n",
       "      <td>0</td>\n",
       "      <td>1</td>\n",
       "      <td>1.764286</td>\n",
       "      <td>5.928571</td>\n",
       "      <td>1.0</td>\n",
       "      <td>218</td>\n",
       "      <td>3.885714</td>\n",
       "      <td>0</td>\n",
       "      <td>1</td>\n",
       "    </tr>\n",
       "    <tr>\n",
       "      <th>2015-03-11</th>\n",
       "      <td>0</td>\n",
       "      <td>0</td>\n",
       "      <td>1</td>\n",
       "      <td>0</td>\n",
       "      <td>0</td>\n",
       "      <td>0</td>\n",
       "      <td>0</td>\n",
       "      <td>0</td>\n",
       "      <td>0</td>\n",
       "      <td>1</td>\n",
       "      <td>...</td>\n",
       "      <td>0</td>\n",
       "      <td>0</td>\n",
       "      <td>1</td>\n",
       "      <td>2.783333</td>\n",
       "      <td>0.583333</td>\n",
       "      <td>0.0</td>\n",
       "      <td>483</td>\n",
       "      <td>7.016667</td>\n",
       "      <td>0</td>\n",
       "      <td>0</td>\n",
       "    </tr>\n",
       "    <tr>\n",
       "      <th>2013-12-27</th>\n",
       "      <td>0</td>\n",
       "      <td>0</td>\n",
       "      <td>0</td>\n",
       "      <td>0</td>\n",
       "      <td>1</td>\n",
       "      <td>0</td>\n",
       "      <td>0</td>\n",
       "      <td>0</td>\n",
       "      <td>0</td>\n",
       "      <td>0</td>\n",
       "      <td>...</td>\n",
       "      <td>1</td>\n",
       "      <td>0</td>\n",
       "      <td>0</td>\n",
       "      <td>4.350000</td>\n",
       "      <td>2.083333</td>\n",
       "      <td>0.0</td>\n",
       "      <td>348</td>\n",
       "      <td>6.066667</td>\n",
       "      <td>0</td>\n",
       "      <td>0</td>\n",
       "    </tr>\n",
       "    <tr>\n",
       "      <th>2013-12-04</th>\n",
       "      <td>0</td>\n",
       "      <td>0</td>\n",
       "      <td>1</td>\n",
       "      <td>0</td>\n",
       "      <td>0</td>\n",
       "      <td>0</td>\n",
       "      <td>0</td>\n",
       "      <td>0</td>\n",
       "      <td>0</td>\n",
       "      <td>0</td>\n",
       "      <td>...</td>\n",
       "      <td>1</td>\n",
       "      <td>0</td>\n",
       "      <td>0</td>\n",
       "      <td>3.291667</td>\n",
       "      <td>7.916667</td>\n",
       "      <td>0.0</td>\n",
       "      <td>20</td>\n",
       "      <td>2.600000</td>\n",
       "      <td>0</td>\n",
       "      <td>0</td>\n",
       "    </tr>\n",
       "    <tr>\n",
       "      <th>2015-03-16</th>\n",
       "      <td>1</td>\n",
       "      <td>0</td>\n",
       "      <td>0</td>\n",
       "      <td>0</td>\n",
       "      <td>0</td>\n",
       "      <td>0</td>\n",
       "      <td>0</td>\n",
       "      <td>0</td>\n",
       "      <td>0</td>\n",
       "      <td>1</td>\n",
       "      <td>...</td>\n",
       "      <td>0</td>\n",
       "      <td>0</td>\n",
       "      <td>1</td>\n",
       "      <td>1.925000</td>\n",
       "      <td>2.333333</td>\n",
       "      <td>0.0</td>\n",
       "      <td>470</td>\n",
       "      <td>12.925000</td>\n",
       "      <td>0</td>\n",
       "      <td>0</td>\n",
       "    </tr>\n",
       "  </tbody>\n",
       "</table>\n",
       "<p>5 rows × 29 columns</p>\n",
       "</div>"
      ],
      "text/plain": [
       "            Monday  Tuesday  Wednesday  Thursday  Friday  Saturday  Sunday  \\\n",
       "Date                                                                         \n",
       "2015-02-22       0        0          0         0       0         0       1   \n",
       "2015-03-11       0        0          1         0       0         0       0   \n",
       "2013-12-27       0        0          0         0       1         0       0   \n",
       "2013-12-04       0        0          1         0       0         0       0   \n",
       "2015-03-16       1        0          0         0       0         0       0   \n",
       "\n",
       "            January  February  March  ...  2013  2014  2015      Wind  \\\n",
       "Date                                  ...                               \n",
       "2015-02-22        0         1      0  ...     0     0     1  1.764286   \n",
       "2015-03-11        0         0      1  ...     0     0     1  2.783333   \n",
       "2013-12-27        0         0      0  ...     1     0     0  4.350000   \n",
       "2013-12-04        0         0      0  ...     1     0     0  3.291667   \n",
       "2015-03-16        0         0      1  ...     0     0     1  1.925000   \n",
       "\n",
       "            Cloudiness  Precipitation  Sun  Air Temperature  Is Holiday  \\\n",
       "Date                                                                      \n",
       "2015-02-22    5.928571            1.0  218         3.885714           0   \n",
       "2015-03-11    0.583333            0.0  483         7.016667           0   \n",
       "2013-12-27    2.083333            0.0  348         6.066667           0   \n",
       "2013-12-04    7.916667            0.0   20         2.600000           0   \n",
       "2015-03-16    2.333333            0.0  470        12.925000           0   \n",
       "\n",
       "            Weekend  \n",
       "Date                 \n",
       "2015-02-22        1  \n",
       "2015-03-11        0  \n",
       "2013-12-27        0  \n",
       "2013-12-04        0  \n",
       "2015-03-16        0  \n",
       "\n",
       "[5 rows x 29 columns]"
      ]
     },
     "execution_count": 105,
     "metadata": {},
     "output_type": "execute_result"
    }
   ],
   "source": [
    "X_train_orig.head()"
   ]
  },
  {
   "cell_type": "code",
   "execution_count": 106,
   "id": "781dbbba",
   "metadata": {
    "scrolled": true
   },
   "outputs": [
    {
     "data": {
      "text/html": [
       "<div>\n",
       "<style scoped>\n",
       "    .dataframe tbody tr th:only-of-type {\n",
       "        vertical-align: middle;\n",
       "    }\n",
       "\n",
       "    .dataframe tbody tr th {\n",
       "        vertical-align: top;\n",
       "    }\n",
       "\n",
       "    .dataframe thead th {\n",
       "        text-align: right;\n",
       "    }\n",
       "</style>\n",
       "<table border=\"1\" class=\"dataframe\">\n",
       "  <thead>\n",
       "    <tr style=\"text-align: right;\">\n",
       "      <th></th>\n",
       "      <th>Monday</th>\n",
       "      <th>Tuesday</th>\n",
       "      <th>Wednesday</th>\n",
       "      <th>Thursday</th>\n",
       "      <th>Friday</th>\n",
       "      <th>Saturday</th>\n",
       "      <th>Sunday</th>\n",
       "      <th>January</th>\n",
       "      <th>February</th>\n",
       "      <th>March</th>\n",
       "      <th>...</th>\n",
       "      <th>2013</th>\n",
       "      <th>2014</th>\n",
       "      <th>2015</th>\n",
       "      <th>Wind</th>\n",
       "      <th>Cloudiness</th>\n",
       "      <th>Precipitation</th>\n",
       "      <th>Sun</th>\n",
       "      <th>Air Temperature</th>\n",
       "      <th>Is Holiday</th>\n",
       "      <th>Weekend</th>\n",
       "    </tr>\n",
       "    <tr>\n",
       "      <th>Date</th>\n",
       "      <th></th>\n",
       "      <th></th>\n",
       "      <th></th>\n",
       "      <th></th>\n",
       "      <th></th>\n",
       "      <th></th>\n",
       "      <th></th>\n",
       "      <th></th>\n",
       "      <th></th>\n",
       "      <th></th>\n",
       "      <th></th>\n",
       "      <th></th>\n",
       "      <th></th>\n",
       "      <th></th>\n",
       "      <th></th>\n",
       "      <th></th>\n",
       "      <th></th>\n",
       "      <th></th>\n",
       "      <th></th>\n",
       "      <th></th>\n",
       "      <th></th>\n",
       "    </tr>\n",
       "  </thead>\n",
       "  <tbody>\n",
       "    <tr>\n",
       "      <th>2015-02-22</th>\n",
       "      <td>0</td>\n",
       "      <td>0</td>\n",
       "      <td>0</td>\n",
       "      <td>0</td>\n",
       "      <td>0</td>\n",
       "      <td>0</td>\n",
       "      <td>1</td>\n",
       "      <td>0</td>\n",
       "      <td>1</td>\n",
       "      <td>0</td>\n",
       "      <td>...</td>\n",
       "      <td>0</td>\n",
       "      <td>0</td>\n",
       "      <td>1</td>\n",
       "      <td>-1.078521</td>\n",
       "      <td>0.397055</td>\n",
       "      <td>0.095435</td>\n",
       "      <td>-0.133835</td>\n",
       "      <td>-1.251549</td>\n",
       "      <td>0</td>\n",
       "      <td>1</td>\n",
       "    </tr>\n",
       "    <tr>\n",
       "      <th>2015-03-11</th>\n",
       "      <td>0</td>\n",
       "      <td>0</td>\n",
       "      <td>1</td>\n",
       "      <td>0</td>\n",
       "      <td>0</td>\n",
       "      <td>0</td>\n",
       "      <td>0</td>\n",
       "      <td>0</td>\n",
       "      <td>0</td>\n",
       "      <td>1</td>\n",
       "      <td>...</td>\n",
       "      <td>0</td>\n",
       "      <td>0</td>\n",
       "      <td>1</td>\n",
       "      <td>-0.221543</td>\n",
       "      <td>-1.837403</td>\n",
       "      <td>-0.261106</td>\n",
       "      <td>1.122192</td>\n",
       "      <td>-0.843006</td>\n",
       "      <td>0</td>\n",
       "      <td>0</td>\n",
       "    </tr>\n",
       "    <tr>\n",
       "      <th>2013-12-27</th>\n",
       "      <td>0</td>\n",
       "      <td>0</td>\n",
       "      <td>0</td>\n",
       "      <td>0</td>\n",
       "      <td>1</td>\n",
       "      <td>0</td>\n",
       "      <td>0</td>\n",
       "      <td>0</td>\n",
       "      <td>0</td>\n",
       "      <td>0</td>\n",
       "      <td>...</td>\n",
       "      <td>1</td>\n",
       "      <td>0</td>\n",
       "      <td>0</td>\n",
       "      <td>1.095961</td>\n",
       "      <td>-1.210362</td>\n",
       "      <td>-0.261106</td>\n",
       "      <td>0.482329</td>\n",
       "      <td>-0.966967</td>\n",
       "      <td>0</td>\n",
       "      <td>0</td>\n",
       "    </tr>\n",
       "    <tr>\n",
       "      <th>2013-12-04</th>\n",
       "      <td>0</td>\n",
       "      <td>0</td>\n",
       "      <td>1</td>\n",
       "      <td>0</td>\n",
       "      <td>0</td>\n",
       "      <td>0</td>\n",
       "      <td>0</td>\n",
       "      <td>0</td>\n",
       "      <td>0</td>\n",
       "      <td>0</td>\n",
       "      <td>...</td>\n",
       "      <td>1</td>\n",
       "      <td>0</td>\n",
       "      <td>0</td>\n",
       "      <td>0.205945</td>\n",
       "      <td>1.228134</td>\n",
       "      <td>-0.261106</td>\n",
       "      <td>-1.072300</td>\n",
       "      <td>-1.419315</td>\n",
       "      <td>0</td>\n",
       "      <td>0</td>\n",
       "    </tr>\n",
       "    <tr>\n",
       "      <th>2015-03-16</th>\n",
       "      <td>1</td>\n",
       "      <td>0</td>\n",
       "      <td>0</td>\n",
       "      <td>0</td>\n",
       "      <td>0</td>\n",
       "      <td>0</td>\n",
       "      <td>0</td>\n",
       "      <td>0</td>\n",
       "      <td>0</td>\n",
       "      <td>1</td>\n",
       "      <td>...</td>\n",
       "      <td>0</td>\n",
       "      <td>0</td>\n",
       "      <td>1</td>\n",
       "      <td>-0.943367</td>\n",
       "      <td>-1.105855</td>\n",
       "      <td>-0.261106</td>\n",
       "      <td>1.060576</td>\n",
       "      <td>-0.072057</td>\n",
       "      <td>0</td>\n",
       "      <td>0</td>\n",
       "    </tr>\n",
       "  </tbody>\n",
       "</table>\n",
       "<p>5 rows × 29 columns</p>\n",
       "</div>"
      ],
      "text/plain": [
       "            Monday  Tuesday  Wednesday  Thursday  Friday  Saturday  Sunday  \\\n",
       "Date                                                                         \n",
       "2015-02-22       0        0          0         0       0         0       1   \n",
       "2015-03-11       0        0          1         0       0         0       0   \n",
       "2013-12-27       0        0          0         0       1         0       0   \n",
       "2013-12-04       0        0          1         0       0         0       0   \n",
       "2015-03-16       1        0          0         0       0         0       0   \n",
       "\n",
       "            January  February  March  ...  2013  2014  2015      Wind  \\\n",
       "Date                                  ...                               \n",
       "2015-02-22        0         1      0  ...     0     0     1 -1.078521   \n",
       "2015-03-11        0         0      1  ...     0     0     1 -0.221543   \n",
       "2013-12-27        0         0      0  ...     1     0     0  1.095961   \n",
       "2013-12-04        0         0      0  ...     1     0     0  0.205945   \n",
       "2015-03-16        0         0      1  ...     0     0     1 -0.943367   \n",
       "\n",
       "            Cloudiness  Precipitation       Sun  Air Temperature  Is Holiday  \\\n",
       "Date                                                                           \n",
       "2015-02-22    0.397055       0.095435 -0.133835        -1.251549           0   \n",
       "2015-03-11   -1.837403      -0.261106  1.122192        -0.843006           0   \n",
       "2013-12-27   -1.210362      -0.261106  0.482329        -0.966967           0   \n",
       "2013-12-04    1.228134      -0.261106 -1.072300        -1.419315           0   \n",
       "2015-03-16   -1.105855      -0.261106  1.060576        -0.072057           0   \n",
       "\n",
       "            Weekend  \n",
       "Date                 \n",
       "2015-02-22        1  \n",
       "2015-03-11        0  \n",
       "2013-12-27        0  \n",
       "2013-12-04        0  \n",
       "2015-03-16        0  \n",
       "\n",
       "[5 rows x 29 columns]"
      ]
     },
     "execution_count": 106,
     "metadata": {},
     "output_type": "execute_result"
    }
   ],
   "source": [
    "X_train.head()"
   ]
  },
  {
   "cell_type": "code",
   "execution_count": 107,
   "id": "473f841c",
   "metadata": {
    "scrolled": true
   },
   "outputs": [
    {
     "data": {
      "text/plain": [
       "Index(['Monday', 'Tuesday', 'Wednesday', 'Thursday', 'Friday', 'Saturday',\n",
       "       'Sunday', 'January', 'February', 'March', 'April', 'May', 'June',\n",
       "       'July', 'August', 'September', 'October', 'November', 'December',\n",
       "       '2013', '2014', '2015', 'Wind', 'Cloudiness', 'Precipitation', 'Sun',\n",
       "       'Air Temperature', 'Is Holiday', 'Weekend'],\n",
       "      dtype='object')"
      ]
     },
     "execution_count": 107,
     "metadata": {},
     "output_type": "execute_result"
    }
   ],
   "source": [
    "# lets repeat the above steps for the X_test set\n",
    "X_test.columns"
   ]
  },
  {
   "cell_type": "code",
   "execution_count": 108,
   "id": "d9645b15",
   "metadata": {},
   "outputs": [],
   "source": [
    "# convert the X_train and X_test sets from dataframes into arrays for use in modelling\n",
    "X_train = X_train.values\n",
    "X_test = X_test.values"
   ]
  },
  {
   "cell_type": "code",
   "execution_count": 109,
   "id": "aa2fb14e",
   "metadata": {
    "scrolled": false
   },
   "outputs": [
    {
     "name": "stdout",
     "output_type": "stream",
     "text": [
      "(532, 29)\n",
      "(228, 29)\n"
     ]
    }
   ],
   "source": [
    "print(X_train.shape)\n",
    "print(X_test.shape)"
   ]
  },
  {
   "cell_type": "code",
   "execution_count": 110,
   "id": "df4b6302",
   "metadata": {},
   "outputs": [
    {
     "name": "stdout",
     "output_type": "stream",
     "text": [
      "(532, 9)\n",
      "(228, 9)\n"
     ]
    }
   ],
   "source": [
    "print(y_train.shape)\n",
    "print(y_test.shape)"
   ]
  },
  {
   "cell_type": "code",
   "execution_count": 111,
   "id": "40067d77",
   "metadata": {},
   "outputs": [],
   "source": [
    "# lets standardize the y_train and y_test sets as well\n",
    "y_train = ss.fit_transform(y_train)\n",
    "y_test = ss.transform(y_test)"
   ]
  },
  {
   "cell_type": "code",
   "execution_count": 112,
   "id": "2d74966d",
   "metadata": {},
   "outputs": [
    {
     "name": "stdout",
     "output_type": "stream",
     "text": [
      "(532, 9)\n",
      "(228, 9)\n"
     ]
    }
   ],
   "source": [
    "print(y_train.shape)\n",
    "print(y_test.shape)"
   ]
  },
  {
   "cell_type": "markdown",
   "id": "1bd47404",
   "metadata": {},
   "source": [
    "# Modelling"
   ]
  },
  {
   "cell_type": "markdown",
   "id": "211ada08",
   "metadata": {},
   "source": [
    "## Our 3 Models:\n",
    "\n",
    "As we are dealing with a regression type prediction problem, we will be working with following models:\n",
    "- Linear Regression\n",
    "- Partial Least Squares Regression\n",
    "- K Nearest Neighbors\n",
    "- Random Forest"
   ]
  },
  {
   "cell_type": "code",
   "execution_count": 113,
   "id": "e687a830",
   "metadata": {},
   "outputs": [],
   "source": [
    "from warnings import simplefilter\n",
    "simplefilter(action='ignore', category=FutureWarning)"
   ]
  },
  {
   "cell_type": "markdown",
   "id": "b3da5b34",
   "metadata": {},
   "source": [
    "## Linear Regression:"
   ]
  },
  {
   "cell_type": "code",
   "execution_count": 114,
   "id": "326a4e19",
   "metadata": {},
   "outputs": [],
   "source": [
    "# import the model\n",
    "from sklearn.linear_model import LinearRegression\n",
    "\n",
    "# instantiate the model\n",
    "linreg = LinearRegression()\n",
    "\n",
    "# fit the model to the training data\n",
    "linreg.fit(X_train, y_train)\n",
    "\n",
    "# use the model to predict results based on the test set\n",
    "y_pred_linreg = linreg.predict(X_test)"
   ]
  },
  {
   "cell_type": "code",
   "execution_count": 115,
   "id": "239ce215",
   "metadata": {},
   "outputs": [
    {
     "data": {
      "text/plain": [
       "(228, 9)"
      ]
     },
     "execution_count": 115,
     "metadata": {},
     "output_type": "execute_result"
    }
   ],
   "source": [
    "y_pred_linreg.shape"
   ]
  },
  {
   "cell_type": "code",
   "execution_count": 116,
   "id": "670a26ff",
   "metadata": {},
   "outputs": [
    {
     "data": {
      "text/plain": [
       "(228, 9)"
      ]
     },
     "execution_count": 116,
     "metadata": {},
     "output_type": "execute_result"
    }
   ],
   "source": [
    "y_test.shape"
   ]
  },
  {
   "cell_type": "markdown",
   "id": "251f7930",
   "metadata": {},
   "source": [
    "### Linear Regression Model Evaluation:"
   ]
  },
  {
   "cell_type": "code",
   "execution_count": 117,
   "id": "3f262d9c",
   "metadata": {},
   "outputs": [
    {
     "name": "stdout",
     "output_type": "stream",
     "text": [
      "The linear regression mean squared error: 776.0833578804505\n",
      "The linear regression model mean absolute percentage error: 113.09490927094268\n",
      "0.18 accuracy with a standard deviation of 0.09\n"
     ]
    }
   ],
   "source": [
    "# import the necessary metrics to evaluate the model\n",
    "from sklearn.metrics import mean_squared_error\n",
    "\n",
    "mse_linreg = mean_squared_error(y_test, y_pred_linreg)\n",
    "print(\"The linear regression mean squared error: \" + str(mse_linreg))\n",
    "\n",
    "linreg_mape = mape(y_test,y_pred_linreg)\n",
    "print(\"The linear regression model mean absolute percentage error: \" + str(linreg_mape))\n",
    "\n",
    "linreg_cv = cross_val_score(linreg, X, y, cv=5)\n",
    "print(\"%0.2f percent accuracy with a standard deviation of %0.2f\" % (linreg_cv.mean()*100, linreg_cv.std()*100))"
   ]
  },
  {
   "cell_type": "markdown",
   "id": "ceb748ea",
   "metadata": {},
   "source": [
    "## Partial Least Squares Regression (PLS):"
   ]
  },
  {
   "cell_type": "code",
   "execution_count": 118,
   "id": "a008fdb6",
   "metadata": {},
   "outputs": [],
   "source": [
    "# import the model\n",
    "from sklearn.cross_decomposition import PLSRegression"
   ]
  },
  {
   "cell_type": "code",
   "execution_count": 119,
   "id": "6f467691",
   "metadata": {},
   "outputs": [],
   "source": [
    "# PLS Regression features an n-component parameter.\n",
    "# we will loop through various components until we identify the best performing parameter\n",
    "\n",
    "mse = []\n",
    "components = []\n",
    "mean_cv = []\n",
    "\n",
    "for i in range(2,25):\n",
    "    pls = PLSRegression(n_components = i)\n",
    "    \n",
    "    pls.fit(X_train,y_train)\n",
    "    y_pred = pls.predict(X_test)\n",
    "    components.append(i)\n",
    "    mse.append(mean_squared_error(y_test,y_pred))\n",
    "    cv_scores = cross_val_score(pls, X, y, cv=5)\n",
    "    mean_cv.append(cv_scores.mean())\n",
    "    "
   ]
  },
  {
   "cell_type": "code",
   "execution_count": 120,
   "id": "53b6c383",
   "metadata": {},
   "outputs": [
    {
     "data": {
      "text/plain": [
       "Text(0.5, 1.0, 'PLS Mean Squared Error vs. Number of Components')"
      ]
     },
     "execution_count": 120,
     "metadata": {},
     "output_type": "execute_result"
    },
    {
     "data": {
      "image/png": "[encoded data removed]",
      "text/plain": [
       "<Figure size 640x480 with 1 Axes>"
      ]
     },
     "metadata": {},
     "output_type": "display_data"
    }
   ],
   "source": [
    "plt.plot(components, mse)\n",
    "plt.xlabel('Number of Components')\n",
    "plt.ylabel('Mean Squared Error')\n",
    "plt.title('PLS Mean Squared Error vs. Number of Components')"
   ]
  },
  {
   "cell_type": "code",
   "execution_count": 121,
   "id": "7af2618b",
   "metadata": {},
   "outputs": [
    {
     "data": {
      "text/plain": [
       "Text(0.5, 1.0, 'Mean CV Score vs. Number of Components')"
      ]
     },
     "execution_count": 121,
     "metadata": {},
     "output_type": "execute_result"
    },
    {
     "data": {
      "image/png": "[encoded data removed]",
      "text/plain": [
       "<Figure size 640x480 with 1 Axes>"
      ]
     },
     "metadata": {},
     "output_type": "display_data"
    }
   ],
   "source": [
    "plt.plot(components,mean_cv)\n",
    "plt.xlabel('Number of Components')\n",
    "plt.ylabel('Mean CV Score')\n",
    "plt.title('Mean CV Score vs. Number of Components')"
   ]
  },
  {
   "cell_type": "code",
   "execution_count": 122,
   "id": "29c3e7de",
   "metadata": {},
   "outputs": [],
   "source": [
    "# the lowest mean squared error is a result of using 4 components \n",
    "pls = PLSRegression(n_components = 4)\n",
    "\n",
    "pls.fit(X_train,y_train)\n",
    "y_pls_pred = pls.predict(X_test)"
   ]
  },
  {
   "cell_type": "markdown",
   "id": "cd78feb7",
   "metadata": {},
   "source": [
    "### PLS Regression Model Evaluation:"
   ]
  },
  {
   "cell_type": "code",
   "execution_count": 123,
   "id": "4f0bd151",
   "metadata": {},
   "outputs": [
    {
     "name": "stdout",
     "output_type": "stream",
     "text": [
      "The linear regression mean squared error: 221.7869789683435\n",
      "The linear regression model mean absolute percentage error: 90.1461187636802\n",
      "0.24 accuracy with a standard deviation of 0.11\n"
     ]
    }
   ],
   "source": [
    "mse_pls = mean_squared_error(y_test, y_pls_pred)\n",
    "print(\"The linear regression mean squared error: \" + str(mse_pls))\n",
    "\n",
    "pls_mape = mape(y_test, y_pls_pred)\n",
    "print(\"The linear regression model mean absolute percentage error: \" + str(pls_mape))\n",
    "\n",
    "pls_cv = cross_val_score(pls, X, y, cv=5)\n",
    "print(\"%0.2f percent accuracy with a standard deviation of %0.2f\" % (pls_cv.mean()*100, pls_cv.std()*100))"
   ]
  },
  {
   "cell_type": "markdown",
   "id": "cd9cfbeb",
   "metadata": {},
   "source": [
    "## K Nearest Neighbors (KNN):"
   ]
  },
  {
   "cell_type": "code",
   "execution_count": 124,
   "id": "d31996e0",
   "metadata": {},
   "outputs": [],
   "source": [
    "# import the model\n",
    "from sklearn.neighbors import KNeighborsRegressor\n",
    "\n",
    "# loop through a range of K neighbors to identify the best performing parameter\n",
    "\n",
    "neighbors = range(2, 25, 1)\n",
    "mse = []\n",
    "mean_cv = []\n",
    "\n",
    "for i in neighbors:\n",
    "    \n",
    "    knn = KNeighborsRegressor(n_neighbors=i, weights='distance', algorithm='kd_tree', p=1)\n",
    "    knn.fit(X_train, y_train)\n",
    "    \n",
    "    y_pred = knn.predict(X_test)\n",
    "    mse.append(mean_squared_error(y_test, y_pred))\n",
    "    cv_scores = cross_val_score(knn, X, y, cv=5)\n",
    "    mean_cv.append(cv_scores.mean())\n"
   ]
  },
  {
   "cell_type": "code",
   "execution_count": 125,
   "id": "cdd4bf1f",
   "metadata": {},
   "outputs": [],
   "source": [
    "# weights= 'distance'\n",
    "# algorithm=KDTree/BallTree (I think KDTree would be better in this case)\n",
    "# p=1 (Manhattan distance)"
   ]
  },
  {
   "cell_type": "code",
   "execution_count": 126,
   "id": "710f5557",
   "metadata": {},
   "outputs": [
    {
     "data": {
      "text/plain": [
       "Text(0.5, 1.0, 'Mean Squared Error vs. Number of Neighbors')"
      ]
     },
     "execution_count": 126,
     "metadata": {},
     "output_type": "execute_result"
    },
    {
     "data": {
      "image/png": "[encoded data removed]",
      "text/plain": [
       "<Figure size 640x480 with 1 Axes>"
      ]
     },
     "metadata": {},
     "output_type": "display_data"
    }
   ],
   "source": [
    "plt.plot(list(neighbors),mse)\n",
    "plt.xlabel('Number of Neighbors')\n",
    "plt.ylabel('Mean Squared Error')\n",
    "plt.title('Mean Squared Error vs. Number of Neighbors')"
   ]
  },
  {
   "cell_type": "code",
   "execution_count": 127,
   "id": "e882e79e",
   "metadata": {},
   "outputs": [
    {
     "data": {
      "text/plain": [
       "Text(0.5, 1.0, 'Mean CV Score vs. Number of Neighbors')"
      ]
     },
     "execution_count": 127,
     "metadata": {},
     "output_type": "execute_result"
    },
    {
     "data": {
      "image/png": "[encoded data removed]",
      "text/plain": [
       "<Figure size 640x480 with 1 Axes>"
      ]
     },
     "metadata": {},
     "output_type": "display_data"
    }
   ],
   "source": [
    "plt.plot(list(neighbors),mean_cv)\n",
    "plt.xlabel('Number of Neighbors')\n",
    "plt.ylabel('Mean CV Score')\n",
    "plt.title('Mean CV Score vs. Number of Neighbors')"
   ]
  },
  {
   "cell_type": "code",
   "execution_count": 128,
   "id": "d6941f8d",
   "metadata": {},
   "outputs": [],
   "source": [
    "# instantiate the KNN model with the optimal number of neighbors\n",
    "knn = KNeighborsRegressor(n_neighbors=23, weights='distance', algorithm='kd_tree', p=1)\n",
    "\n",
    "knn.fit(X_train,y_train)\n",
    "y_pred = knn.predict(X_test)"
   ]
  },
  {
   "cell_type": "code",
   "execution_count": 129,
   "id": "30184022",
   "metadata": {},
   "outputs": [
    {
     "name": "stdout",
     "output_type": "stream",
     "text": [
      "The KNN mean squared error: 221.7869789683435\n",
      "The KNN model mean absolute percentage error: 1.6078108012170682\n",
      "-0.03 accuracy with a standard deviation of 0.01\n"
     ]
    }
   ],
   "source": [
    "knn_mse = mean_squared_error(y_test, y_pred)\n",
    "print(\"The KNN mean squared error: \" + str(mse_pls))\n",
    "\n",
    "knn_mape = mape(y_test, y_pred)\n",
    "print(\"The KNN model mean absolute percentage error: \" + str(knn_mape))\n",
    "\n",
    "knn_cv = cross_val_score(knn, X, y, cv=5)\n",
    "print(\"%0.2f percent accuracy with a standard deviation of %0.2f\" % (knn_cv.mean()*100, knn_cv.std()*100))"
   ]
  },
  {
   "cell_type": "markdown",
   "id": "a9520a20",
   "metadata": {},
   "source": [
    "## Random Forest Regressor:"
   ]
  },
  {
   "cell_type": "markdown",
   "id": "9f9e71fa",
   "metadata": {},
   "source": [
    "### Randomized Hyperparameter Tuning:"
   ]
  },
  {
   "cell_type": "code",
   "execution_count": 130,
   "id": "4d9c5d8c",
   "metadata": {},
   "outputs": [],
   "source": [
    "# import the necessary package\n",
    "from sklearn.ensemble import RandomForestRegressor\n",
    "from sklearn.model_selection import RandomizedSearchCV\n",
    "from sklearn.model_selection import GridSearchCV\n",
    "\n",
    "# Create the parameter grid based on the results of random search \n",
    "params = {\n",
    "    'bootstrap': [True, False],\n",
    "    'min_samples_leaf': [2, 3, 4, 5, 6],\n",
    "    'max_depth': [5,6,7,8,9,10],\n",
    "    'min_samples_split': [2, 4, 6, 8, 10, 20, 40, 80],\n",
    "    'max_features': [0.3,0.4,0.5],\n",
    "    'n_estimators': [20, 50, 100, 200, 400, 600, 800, 1000, 1200, 1400, 1600, 1800, 2000]\n",
    "}\n",
    "\n",
    "# Create a based model\n",
    "rand_for = RandomForestRegressor()\n",
    "\n",
    "# Instantiate the grid search model\n",
    "random_gridsearch = RandomizedSearchCV(estimator = rand_for, param_distributions = params, \n",
    "                          n_iter = 100, cv = 3, verbose=2, random_state=42, n_jobs = -1)"
   ]
  },
  {
   "cell_type": "code",
   "execution_count": 131,
   "id": "d1359730",
   "metadata": {},
   "outputs": [
    {
     "name": "stdout",
     "output_type": "stream",
     "text": [
      "Fitting 3 folds for each of 100 candidates, totalling 300 fits\n"
     ]
    },
    {
     "data": {
      "text/plain": [
       "RandomizedSearchCV(cv=3, estimator=RandomForestRegressor(), n_iter=100,\n",
       "                   n_jobs=-1,\n",
       "                   param_distributions={'bootstrap': [True, False],\n",
       "                                        'max_depth': [5, 6, 7, 8, 9, 10],\n",
       "                                        'max_features': [0.3, 0.4, 0.5],\n",
       "                                        'min_samples_leaf': [2, 3, 4, 5, 6],\n",
       "                                        'min_samples_split': [2, 4, 6, 8, 10,\n",
       "                                                              20, 40, 80],\n",
       "                                        'n_estimators': [20, 50, 100, 200, 400,\n",
       "                                                         600, 800, 1000, 1200,\n",
       "                                                         1400, 1600, 1800,\n",
       "                                                         2000]},\n",
       "                   random_state=42, verbose=2)"
      ]
     },
     "execution_count": 131,
     "metadata": {},
     "output_type": "execute_result"
    }
   ],
   "source": [
    "# Fit the grid search to the data\n",
    "random_gridsearch.fit(X_train, y_train)"
   ]
  },
  {
   "cell_type": "code",
   "execution_count": 132,
   "id": "4e186440",
   "metadata": {},
   "outputs": [
    {
     "name": "stdout",
     "output_type": "stream",
     "text": [
      "RandomForestRegressor(max_depth=9, max_features=0.3, min_samples_leaf=2,\n",
      "                      min_samples_split=4, n_estimators=2000)\n",
      "0.4012063028425832\n",
      "{'bootstrap': True, 'ccp_alpha': 0.0, 'criterion': 'squared_error', 'max_depth': 9, 'max_features': 0.3, 'max_leaf_nodes': None, 'max_samples': None, 'min_impurity_decrease': 0.0, 'min_samples_leaf': 2, 'min_samples_split': 4, 'min_weight_fraction_leaf': 0.0, 'n_estimators': 2000, 'n_jobs': None, 'oob_score': False, 'random_state': None, 'verbose': 0, 'warm_start': False}\n"
     ]
    }
   ],
   "source": [
    "# Look at what parameters create the best performance\n",
    "print(random_gridsearch.best_estimator_)\n",
    "\n",
    "# Look at the score of the best parameters\n",
    "print(random_gridsearch.best_score_)\n",
    "\n",
    "# Instantiate the model with it's best parameters\n",
    "rand_rf = random_gridsearch.best_estimator_\n",
    "\n",
    "print(rand_rf.get_params())"
   ]
  },
  {
   "cell_type": "code",
   "execution_count": 133,
   "id": "ff806af6",
   "metadata": {},
   "outputs": [],
   "source": [
    "# use the model to predict new values\n",
    "rand_rf_ypred = rand_rf.predict(X_test)"
   ]
  },
  {
   "cell_type": "code",
   "execution_count": 159,
   "id": "dde6b017",
   "metadata": {},
   "outputs": [
    {
     "name": "stdout",
     "output_type": "stream",
     "text": [
      "The randomized search random forest regression mean squared error: 0.684565377688119\n",
      "The randomized search random forest regression regression model mean absolute percentage error: 1.7810311791590503\n",
      "0.30 accuracy with a standard deviation of 0.10\n"
     ]
    }
   ],
   "source": [
    "#Evaluate the Randomized Grid Search model performance\n",
    "rand_rf_mse = mean_squared_error(y_test, rand_rf_ypred)\n",
    "print(\"The randomized search random forest regression mean squared error: \" + str(rand_rf_mse))\n",
    "\n",
    "rand_rf_mape = mape(y_test, rand_rf_ypred)\n",
    "print(\"The randomized search random forest regression regression model mean absolute percentage error: \" + str(rand_rf_mape))\n",
    "\n",
    "# use cross validation to check model performance\n",
    "rand_rf_cv = cross_val_score(rand_rf, X, y, cv=5)\n",
    "print(\"%0.2f percent accuracy with a standard deviation of %0.2f\" % (rand_rf_cv.mean()*100, rand_rf_cv.std()*100))"
   ]
  },
  {
   "cell_type": "markdown",
   "id": "07d71f65",
   "metadata": {},
   "source": [
    "## Check Model for Overfitting:"
   ]
  },
  {
   "cell_type": "code",
   "execution_count": 135,
   "id": "a58de4fd",
   "metadata": {},
   "outputs": [
    {
     "name": "stdout",
     "output_type": "stream",
     "text": [
      "The base random forest regression mean squared error: 0.3482887186148948\n",
      "The base random forest regression regression model mean absolute percentage error: 1.3241918821292042\n"
     ]
    }
   ],
   "source": [
    "# use the model defined above to predict new values for the train set to compare performance\n",
    "rand_rf_ypred_train = rand_rf.predict(X_train)\n",
    "\n",
    "#Evaluate the Randomized Grid Search model performance on the train set\n",
    "rand_rf_mse_train = mean_squared_error(y_train, rand_rf_ypred_train)\n",
    "print(\"The base random forest regression mean squared error: \" + str(rand_rf_mse_train))\n",
    "\n",
    "rand_rf_mape_train = mape(y_train, rand_rf_ypred_train)\n",
    "print(\"The base random forest regression regression model mean absolute percentage error: \" + str(rand_rf_mape_train))"
   ]
  },
  {
   "cell_type": "code",
   "execution_count": 136,
   "id": "0d7b8b3f",
   "metadata": {
    "scrolled": true
   },
   "outputs": [
    {
     "name": "stdout",
     "output_type": "stream",
     "text": [
      "The model showed a 49.00168559658593% improvement in mean squared error.\n",
      "The model showed a 22.194887217850294% improvement in mean absolute percentage error.\n"
     ]
    }
   ],
   "source": [
    "percent_improvement_mse = abs((rand_rf_mse_train - rand_rf_mse) / rand_rf_mse)*100\n",
    "percent_improvement_mape = abs((rand_rf_mape_train - rand_rf_mape) / rand_rf_mape)*100 \n",
    "\n",
    "print(\"The model showed a \" + str(percent_improvement_mse) + \"% improvement in mean squared error.\")\n",
    "print(\"The model showed a \" + str(percent_improvement_mape) + \"% improvement in mean absolute percentage error.\")"
   ]
  },
  {
   "cell_type": "markdown",
   "id": "f078be2d",
   "metadata": {},
   "source": [
    "The above results show that there is a significant improvement in model performance when it predicted new values based on the training data set. This improvement in performance indicates overfitting and that we need to reevaluate our model parameters."
   ]
  },
  {
   "cell_type": "markdown",
   "id": "683d1382",
   "metadata": {},
   "source": [
    "## Redefine Model Parameters and Rerun Random Search:"
   ]
  },
  {
   "cell_type": "code",
   "execution_count": 137,
   "id": "a2ed6419",
   "metadata": {},
   "outputs": [],
   "source": [
    "# Create the parameter grid based on the results of random search \n",
    "params = {\n",
    "    'bootstrap': [True],\n",
    "    'min_samples_leaf': [2, 3, 4, 5],\n",
    "    'max_depth': list(np.arange(5, 9, 1)),\n",
    "    'min_samples_split': [6, 8, 10, 12, 14],\n",
    "    'max_features': list(np.arange(0.3, 0.7, 0.1)),\n",
    "    'n_estimators': list(np.arange(500, 2000, 100)),\n",
    "    'criterion': ['squared_error']\n",
    "}\n",
    "\n",
    "# Create a based model\n",
    "rand_for = RandomForestRegressor()\n",
    "\n",
    "# Instantiate the grid search model\n",
    "random_gridsearch = RandomizedSearchCV(estimator = rand_for, param_distributions = params, \n",
    "                          n_iter = 100, cv = 3, verbose=2, random_state=42, n_jobs = -1)"
   ]
  },
  {
   "cell_type": "code",
   "execution_count": 138,
   "id": "4b63143d",
   "metadata": {},
   "outputs": [
    {
     "name": "stdout",
     "output_type": "stream",
     "text": [
      "Fitting 3 folds for each of 100 candidates, totalling 300 fits\n"
     ]
    },
    {
     "data": {
      "text/plain": [
       "RandomizedSearchCV(cv=3, estimator=RandomForestRegressor(), n_iter=100,\n",
       "                   n_jobs=-1,\n",
       "                   param_distributions={'bootstrap': [True],\n",
       "                                        'criterion': ['squared_error'],\n",
       "                                        'max_depth': [5, 6, 7, 8],\n",
       "                                        'max_features': [0.3, 0.4, 0.5,\n",
       "                                                         0.6000000000000001],\n",
       "                                        'min_samples_leaf': [2, 3, 4, 5],\n",
       "                                        'min_samples_split': [6, 8, 10, 12, 14],\n",
       "                                        'n_estimators': [500, 600, 700, 800,\n",
       "                                                         900, 1000, 1100, 1200,\n",
       "                                                         1300, 1400, 1500, 1600,\n",
       "                                                         1700, 1800, 1900]},\n",
       "                   random_state=42, verbose=2)"
      ]
     },
     "execution_count": 138,
     "metadata": {},
     "output_type": "execute_result"
    }
   ],
   "source": [
    "# Fit the grid search to the data\n",
    "random_gridsearch.fit(X_train, y_train)"
   ]
  },
  {
   "cell_type": "code",
   "execution_count": 139,
   "id": "546303ba",
   "metadata": {
    "scrolled": true
   },
   "outputs": [
    {
     "name": "stdout",
     "output_type": "stream",
     "text": [
      "RandomForestRegressor(max_depth=8, max_features=0.4, min_samples_leaf=2,\n",
      "                      min_samples_split=12, n_estimators=1100)\n",
      "0.40087871766602406\n",
      "{'bootstrap': True, 'ccp_alpha': 0.0, 'criterion': 'squared_error', 'max_depth': 8, 'max_features': 0.4, 'max_leaf_nodes': None, 'max_samples': None, 'min_impurity_decrease': 0.0, 'min_samples_leaf': 2, 'min_samples_split': 12, 'min_weight_fraction_leaf': 0.0, 'n_estimators': 1100, 'n_jobs': None, 'oob_score': False, 'random_state': None, 'verbose': 0, 'warm_start': False}\n"
     ]
    }
   ],
   "source": [
    "# Look at what parameters create the best performance\n",
    "print(random_gridsearch.best_estimator_)\n",
    "\n",
    "# Look at the score of the best parameters\n",
    "print(random_gridsearch.best_score_)\n",
    "\n",
    "# Instantiate the model with it's best parameters\n",
    "rand_rf = random_gridsearch.best_estimator_\n",
    "\n",
    "print(rand_rf.get_params())"
   ]
  },
  {
   "cell_type": "code",
   "execution_count": 140,
   "id": "a21a9224",
   "metadata": {},
   "outputs": [],
   "source": [
    "# use the model to predict new values\n",
    "rand_rf_ypred = rand_rf.predict(X_test)"
   ]
  },
  {
   "cell_type": "code",
   "execution_count": 160,
   "id": "7fafe69d",
   "metadata": {},
   "outputs": [
    {
     "name": "stdout",
     "output_type": "stream",
     "text": [
      "The randomized search random forest regression mean squared error: 0.684565377688119\n",
      "The randomized search random forest regression regression model mean absolute percentage error: 1.7810311791590503\n",
      "0.30 accuracy with a standard deviation of 0.10\n"
     ]
    }
   ],
   "source": [
    "#Evaluate the Randomized Grid Search model performance\n",
    "rand_rf_mse = mean_squared_error(y_test, rand_rf_ypred)\n",
    "print(\"The randomized search random forest regression mean squared error: \" + str(rand_rf_mse))\n",
    "\n",
    "rand_rf_mape = mape(y_test, rand_rf_ypred)\n",
    "print(\"The randomized search random forest regression regression model mean absolute percentage error: \" + str(rand_rf_mape))\n",
    "\n",
    "# use cross validation to check model performance\n",
    "rand_rf_cv = cross_val_score(rand_rf, X, y, cv=5)\n",
    "print(\"%0.2f percent accuracy with a standard deviation of %0.2f\" % (rand_rf_cv.mean()*100, rand_rf_cv.std()*100))"
   ]
  },
  {
   "cell_type": "markdown",
   "id": "ecd9fb18",
   "metadata": {},
   "source": [
    "### Bayesian Optimization for Hyperparameter Tuning:"
   ]
  },
  {
   "cell_type": "code",
   "execution_count": 161,
   "id": "f8f98fa3",
   "metadata": {},
   "outputs": [
    {
     "data": {
      "text/plain": [
       "BayesSearchCV(estimator=RandomForestRegressor(), n_iter=30, random_state=42,\n",
       "              search_spaces={'bootstrap': [True],\n",
       "                             'criterion': ['squared_error'],\n",
       "                             'max_depth': [3, 4, 5, 6, 7, 8],\n",
       "                             'max_features': [0.2, 0.25, 0.3, 0.35, 0.4],\n",
       "                             'min_samples_leaf': [2, 3, 4, 5],\n",
       "                             'min_samples_split': [5, 6, 7, 8, 9],\n",
       "                             'n_estimators': [1000, 1100, 1200, 1300, 1400,\n",
       "                                              1500, 1600, 1700, 1800, 1900,\n",
       "                                              2000]})"
      ]
     },
     "execution_count": 161,
     "metadata": {},
     "output_type": "execute_result"
    }
   ],
   "source": [
    "# using the results from our Randomized Grid Search, we will construct a new parameter grid for BayesSearchCV\n",
    "from skopt import BayesSearchCV\n",
    "\n",
    "params_new = {\n",
    "    'bootstrap': [True],\n",
    "    'criterion':['squared_error'],\n",
    "    'min_samples_leaf': [2,3,4,5],\n",
    "    'max_depth': [3,4,5,6,7,8],\n",
    "    'min_samples_split': [5,6,7,8,9],\n",
    "    'max_features': [0.2,0.25,0.3,0.35,0.4],\n",
    "    'n_estimators': [1000,1100,1200,1300,1400,1500, 1600,1700,1800,1900,2000]\n",
    "}\n",
    "\n",
    "bscv = BayesSearchCV(RandomForestRegressor(),params_new,n_iter=30,random_state=42)\n",
    "\n",
    "bscv.fit(X_train,y_train)"
   ]
  },
  {
   "cell_type": "code",
   "execution_count": 162,
   "id": "32e9fe1d",
   "metadata": {},
   "outputs": [
    {
     "name": "stdout",
     "output_type": "stream",
     "text": [
      "OrderedDict([('bootstrap', True), ('criterion', 'squared_error'), ('max_depth', 8), ('max_features', 0.3), ('min_samples_leaf', 2), ('min_samples_split', 8), ('n_estimators', 1900)])\n"
     ]
    }
   ],
   "source": [
    "# Look at what parameters create the best performance\n",
    "print(bscv.best_params_)\n",
    "\n",
    "# define the new set of parameters based on Bayesian Optimization\n",
    "bayes_params = bscv.best_params_\n",
    "\n",
    "# Instantiate the model with it's best parameters\n",
    "bayes_rf = RandomForestRegressor(**bayes_params)"
   ]
  },
  {
   "cell_type": "code",
   "execution_count": 164,
   "id": "ef81c17d",
   "metadata": {},
   "outputs": [
    {
     "name": "stdout",
     "output_type": "stream",
     "text": [
      "The bayesian optimization random forest regression mean squared error: 0.6815007406842667\n",
      "The bayesian optimizationrandom forest regression regression model mean absolute percentage error: 1.7020514439495873\n",
      "29.25 accuracy with a standard deviation of 9.97\n"
     ]
    }
   ],
   "source": [
    "# fit the estimator to the train set\n",
    "bayes_rf.fit(X_train, y_train)\n",
    "\n",
    "# Evaluate the GridSearchCV model performance\n",
    "bayes_rf_ypred = bayes_rf.predict(X_test)\n",
    "\n",
    "bayes_rf_mse = mean_squared_error(y_test, bayes_rf_ypred)\n",
    "print(\"The bayesian optimization random forest regression mean squared error: \" + str(bayes_rf_mse))\n",
    "\n",
    "bayes_rf_mape = mape(y_test, bayes_rf_ypred)\n",
    "print(\"The bayesian optimizationrandom forest regression regression model mean absolute percentage error: \" + str(bayes_rf_mape))\n",
    "\n",
    "bayes_rf_cv = cross_val_score(bayes_rf, X, y, cv=5)\n",
    "print(\"%0.2f percent accuracy with a standard deviation of %0.2f\" % (bayes_rf_cv.mean()*100, bayes_rf_cv.std()*100))"
   ]
  },
  {
   "cell_type": "markdown",
   "id": "75a431e2",
   "metadata": {},
   "source": [
    "### Base Random Forest Regressor Model Performance:"
   ]
  },
  {
   "cell_type": "code",
   "execution_count": 145,
   "id": "b3b719f8",
   "metadata": {
    "scrolled": true
   },
   "outputs": [
    {
     "name": "stdout",
     "output_type": "stream",
     "text": [
      "The base random forest regression mean squared error: 0.8180629906739204\n",
      "The base random forest regression regression model mean absolute percentage error: 2.1479655584352644\n",
      "0.23 accuracy with a standard deviation of 0.11\n"
     ]
    }
   ],
   "source": [
    "# compare it to the base random forest model\n",
    "base_rf = RandomForestRegressor(n_estimators = 100, random_state=42)\n",
    "\n",
    "# fit the model to the data\n",
    "base_rf.fit(X_train,y_train)\n",
    "\n",
    "# evaluate the model's performance\n",
    "base_ypred = base_rf.predict(X_test)\n",
    "\n",
    "base_rf_mse = mean_squared_error(y_test, base_ypred)\n",
    "print(\"The base random forest regression mean squared error: \" + str(base_rf_mse))\n",
    "\n",
    "base_rf_mape = mape(y_test, base_ypred)\n",
    "print(\"The base random forest regression regression model mean absolute percentage error: \" + str(base_rf_mape))\n",
    "\n",
    "base_rf_cv = cross_val_score(base_rf, X, y, cv=5)\n",
    "print(\"%0.2f accuracy with a standard deviation of %0.2f\" % (base_rf_cv.mean(), base_rf_cv.std()))"
   ]
  },
  {
   "cell_type": "markdown",
   "id": "4d3bb5cb",
   "metadata": {},
   "source": [
    "### Random Forest Model Comparison:"
   ]
  },
  {
   "cell_type": "code",
   "execution_count": 146,
   "id": "32e25a0d",
   "metadata": {},
   "outputs": [
    {
     "name": "stdout",
     "output_type": "stream",
     "text": [
      "The random search model showed a 30.98 percent improvement from the base model performance\n",
      "The bayesian optimization model showed a 28.40 percent improvement from the base model performance\n",
      "The bayesian optimization showed a -1.97 percent improvement from the random search model performance\n"
     ]
    }
   ],
   "source": [
    "rand_score = rand_rf_cv.mean()\n",
    "bayes_score = bayes_rf_cv.mean()\n",
    "base_score = base_rf_cv.mean()\n",
    "\n",
    "print(\"The random search model showed a %0.2f percent improvement from the base model performance\" % (((rand_score-base_score)/base_score)*100))\n",
    "print(\"The bayesian optimization model showed a %0.2f percent improvement from the base model performance\" % (((bayes_score-base_score)/base_score)*100))\n",
    "print(\"The bayesian optimization showed a %0.2f percent improvement from the random search model performance\" % (((bayes_score-rand_score)/rand_score)*100))"
   ]
  },
  {
   "cell_type": "markdown",
   "id": "99667533",
   "metadata": {},
   "source": [
    "## Support Vector Regression (SVR) Model:"
   ]
  },
  {
   "cell_type": "code",
   "execution_count": 147,
   "id": "06114e58",
   "metadata": {},
   "outputs": [],
   "source": [
    "# import the necessary package\n",
    "# The SVR model does not work natively with multivariate regression \n",
    "# We need to wrap it in a function that will allow it to do so\n",
    "from sklearn.svm import SVR\n",
    "from sklearn.multioutput import MultiOutputRegressor\n",
    "\n",
    "# instantiate the model with the gaussian kernel\n",
    "svr = SVR(kernel='rbf', epsilon=0.2)\n",
    "\n",
    "# Instantiate the Multioutput Regressor to wrap our SVR model in\n",
    "mor = MultiOutputRegressor(svr)\n",
    "\n",
    "# fit the model on the train sets\n",
    "mor.fit(X_train,y_train)\n",
    "\n",
    "# use the model to predict based on the x_test set\n",
    "svr_multi_ypred = mor.predict(X_test)"
   ]
  },
  {
   "cell_type": "markdown",
   "id": "1cd372d4",
   "metadata": {},
   "source": [
    "### Iterate through the Responding Variables to Examine Model Performance:"
   ]
  },
  {
   "cell_type": "code",
   "execution_count": 148,
   "id": "5eaa3817",
   "metadata": {},
   "outputs": [
    {
     "data": {
      "text/plain": [
       "(228, 9)"
      ]
     },
     "execution_count": 148,
     "metadata": {},
     "output_type": "execute_result"
    }
   ],
   "source": [
    "y_test.shape"
   ]
  },
  {
   "cell_type": "code",
   "execution_count": 149,
   "id": "0e0b6608",
   "metadata": {
    "scrolled": true
   },
   "outputs": [],
   "source": [
    "svr_mse = []\n",
    "svr_mape = []\n",
    "\n",
    "for i in range(9):\n",
    "    svr_mse.append(mean_squared_error(y_test[:,i],svr_multi_ypred[:,i]))\n",
    "    svr_mape.append(mape(y_test[:,i],svr_multi_ypred[:,i]))"
   ]
  },
  {
   "cell_type": "code",
   "execution_count": 150,
   "id": "193e5d5e",
   "metadata": {},
   "outputs": [
    {
     "name": "stdout",
     "output_type": "stream",
     "text": [
      "0.8139364962777641\n",
      "0.9116384001602115\n"
     ]
    }
   ],
   "source": [
    "print(min(svr_mse))\n",
    "print(min(svr_mape))"
   ]
  },
  {
   "cell_type": "code",
   "execution_count": 151,
   "id": "5f0bd3f7",
   "metadata": {},
   "outputs": [],
   "source": [
    "def avg_list(lst):\n",
    "    return (sum(lst)/len(lst))"
   ]
  },
  {
   "cell_type": "code",
   "execution_count": 152,
   "id": "94d23e9d",
   "metadata": {},
   "outputs": [
    {
     "name": "stdout",
     "output_type": "stream",
     "text": [
      "The SVR model mean squared error is: 0.8873324113437098\n",
      "The SVR Model mean absolute percentage error is: 1.7344265928332543\n",
      "-0.06 accuracy with a standard deviation of 0.04\n"
     ]
    }
   ],
   "source": [
    "print('The SVR model mean squared error is: ' + str(avg_list(svr_mse)))\n",
    "print('The SVR Model mean absolute percentage error is: ' + str(avg_list(svr_mape)))\n",
    "svr_cv = cross_val_score(mor, X, y, cv =5)\n",
    "print(\"%0.2f percent accuracy with a standard deviation of %0.2f\" % (svr_cv.mean()*100, svr_cv.std()*100))"
   ]
  },
  {
   "cell_type": "markdown",
   "id": "e0bf0e5b",
   "metadata": {},
   "source": [
    "# Model Performance Ranking:"
   ]
  },
  {
   "cell_type": "code",
   "execution_count": 153,
   "id": "a027dbd7",
   "metadata": {},
   "outputs": [],
   "source": [
    "model_cv_scores = [(linreg_cv.mean(),'Linear Regression Model'),(pls_cv.mean(), 'Partial Least Squares Model'),\n",
    "                   (knn_cv.mean(), 'K Nearest Neighbors Model'),(rand_rf_cv.mean(),'Random Forest Regression Model'),\n",
    "                  (svr_cv.mean(),'Support Vector Regression Model')]\n",
    "models_sorted = sorted(model_cv_scores, key=lambda tup: tup[0], reverse=True)"
   ]
  },
  {
   "cell_type": "code",
   "execution_count": 154,
   "id": "406a1d69",
   "metadata": {
    "scrolled": true
   },
   "outputs": [
    {
     "name": "stdout",
     "output_type": "stream",
     "text": [
      "#1. Random Forest Regression Model with an accuracy of 29.67246991778782\n",
      "#2. Partial Least Squares Model with an accuracy of 23.883506923021546\n",
      "#3. Linear Regression Model with an accuracy of 18.429034343787805\n",
      "#4. K Nearest Neighbors Model with an accuracy of -2.7441410838651104\n",
      "#5. Support Vector Regression Model with an accuracy of -5.907855648364073\n"
     ]
    }
   ],
   "source": [
    "for i in range(len(models_sorted)):\n",
    "    print(\"#\"+str(i+1)+\". \"+str(models_sorted[i][1])+' with an accuracy of '+str((models_sorted[i][0])*100))"
   ]
  },
  {
   "cell_type": "code",
   "execution_count": null,
   "id": "9c507c77",
   "metadata": {},
   "outputs": [],
   "source": []
  }
 ],
 "metadata": {
  "kernelspec": {
   "display_name": "Python 3 (ipykernel)",
   "language": "python",
   "name": "python3"
  },
  "language_info": {
   "codemirror_mode": {
    "name": "ipython",
    "version": 3
   },
   "file_extension": ".py",
   "mimetype": "text/x-python",
   "name": "python",
   "nbconvert_exporter": "python",
   "pygments_lexer": "ipython3",
   "version": "3.9.13"
  }
 },
 "nbformat": 4,
 "nbformat_minor": 5
}
